{
 "cells": [
  {
   "cell_type": "code",
   "execution_count": 1,
   "metadata": {},
   "outputs": [],
   "source": [
    "import os                           # for testing use only\n",
    "import pandas as pd\n",
    "import numpy as np\n",
    "import requests\n",
    "from bs4 import BeautifulSoup\n",
    "import seaborn as sns\n",
    "import matplotlib as mpl\n",
    "import matplotlib.pyplot as plt      \n",
    "import math\n",
    "import seaborn as sns\n",
    "from collections import Counter\n",
    "from sklearn.decomposition import PCA\n",
    "from scipy.stats import chi2_contingency\n",
    "import time\n",
    "\n",
    "# sklearn imports\n",
    "# helper for logistic regression explanations\n",
    "from scipy.special import expit\n",
    "from scipy.special import logit\n",
    "\n",
    "# visualization libraries \n",
    "import matplotlib.pyplot as plt\n",
    "%matplotlib inline  \n",
    "plt.rcParams['figure.figsize'] = (10, 6)\n",
    "\n",
    "\n",
    "\n",
    "from sklearn import linear_model\n",
    "from sklearn.linear_model import LogisticRegression\n",
    "from sklearn import metrics, preprocessing\n",
    "from sklearn.model_selection import train_test_split\n",
    "# --------cross-validation\n",
    "from sklearn.model_selection import cross_val_score\n",
    "from sklearn.model_selection import GridSearchCV\n",
    "# -------- classification\n",
    "import sklearn\n",
    "from sklearn import neighbors, tree, ensemble, naive_bayes, svm\n",
    "# *** KNN\n",
    "from sklearn.neighbors import KNeighborsClassifier\n",
    "# *** Decision Tree; Random Forest\n",
    "from sklearn import tree\n",
    "from sklearn.tree import DecisionTreeClassifier\n",
    "from sklearn.ensemble import RandomForestClassifier\n",
    "# *** Naive Bayes\n",
    "from sklearn.naive_bayes import GaussianNB\n",
    "# *** SVM classifier\n",
    "from sklearn.svm import SVC\n",
    "# --------  metrics:\n",
    "from sklearn import metrics\n",
    "from sklearn.metrics import accuracy_score, precision_score, recall_score, f1_score, confusion_matrix\n",
    "from sklearn.metrics import make_scorer\n",
    "\n",
    "%matplotlib inline\n",
    "from mpl_toolkits.mplot3d import Axes3D\n",
    "from matplotlib import cm"
   ]
  },
  {
   "cell_type": "code",
   "execution_count": null,
   "metadata": {},
   "outputs": [],
   "source": [
    "url = \"https://play.google.com/store/apps?hl=en_US\"\n",
    "basic_url = \"https://play.google.com\"\n",
    "response = requests.get(url)\n",
    "time_for_sleep = 0\n",
    "dir = \"C:/Users/davidr241194/Documents/jupyter_notebook/GoogleAppStore.csv\""
   ]
  },
  {
   "cell_type": "code",
   "execution_count": null,
   "metadata": {},
   "outputs": [],
   "source": [
    "def scrape_apps(html_file_name):\n",
    "    soup = BeautifulSoup(response.content, \"html.parser\")\n",
    "    category = soup.find(\"div\", attrs={\"class\": \"LNKfBf\"})\n",
    "    link_to_genre_page = [t['href'] for t in category.findAll(\"a\")]\n",
    "    genre_name = [t.text for t in category.findAll(\"a\")]\n",
    "    for x in link_to_genre_page:\n",
    "        title = []\n",
    "        gen = []\n",
    "        rating = []\n",
    "        rating_count = []\n",
    "        number_of_installs = []\n",
    "        price = []\n",
    "        free_l = []\n",
    "        size = []\n",
    "        print(\"For category:\" + x)\n",
    "        time.sleep(time_for_sleep)\n",
    "        new_response = requests.get(basic_url + x)\n",
    "        soup_seemore = BeautifulSoup(new_response.content, \"html.parser\")\n",
    "        see_more_div = soup_seemore.findAll(\"div\", attrs={\"class\": \"xwY9Zc\"})\n",
    "        for q in see_more_div:\n",
    "            see_more_link = [t['href'] for t in q.findAll(\"a\")]\n",
    "            for w in see_more_link:\n",
    "                apps_link = []\n",
    "                time.sleep(time_for_sleep)\n",
    "                apps_response = requests.get(basic_url + w)\n",
    "                soup_apps = BeautifulSoup(apps_response.content, \"html.parser\")\n",
    "                apps_div = soup_apps.findAll(\"div\", attrs={\"class\": \"wXUyZd\"})\n",
    "                for e in apps_div:\n",
    "                    apps_link = [t['href'] for t in e.findAll(\"a\")]\n",
    "                    for r in apps_link:\n",
    "                        apps_main_request = requests.get(basic_url + r)\n",
    "                        soup_apps_main = BeautifulSoup(apps_main_request.content, \"html.parser\")\n",
    "                        try:\n",
    "                            title.append(soup_apps_main.find(\"h1\", attrs={\"class\": \"AHFaub\"}).get_text())\n",
    "                        except:\n",
    "                            title.append(\"n/a\")\n",
    "                            print(\"Error during title append\")\n",
    "                        try:\n",
    "                            gen.append(soup_apps_main.find(\"div\", attrs={\"class\": \"qQKdcc\"}).get_text())\n",
    "                        except:\n",
    "                            gen.append(\"n/a\")\n",
    "                            print(\"Error during gen append\")\n",
    "                        try:\n",
    "                            rating.append(soup_apps_main.find(\"div\", attrs={\"class\": \"BHMmbe\"}).get_text())\n",
    "                        except:\n",
    "                            rating.append(\"n/a\")\n",
    "                            print(\"Error during rating append\")\n",
    "                        try:\n",
    "                            rating_count.append(soup_apps_main.find(\"div\", attrs={\"class\": \"dNLKff\"}).get_text())\n",
    "                        except:\n",
    "                            rating_count.append(\"n/a\")\n",
    "                        try:\n",
    "                            price_scarp = soup_apps_main.find(\"span\", attrs={\"class\": \"oocvOe\"}).get_text()\n",
    "                        except:\n",
    "                            print(\"Error during price scarp\")\n",
    "                            price_scarp = \"n/a\"\n",
    "                        num_of_ins = soup_apps_main.findAll(\"span\", attrs={\"class\": \"htlgb\"})\n",
    "                        if price_scarp == \"n/a\":\n",
    "                            price.append(\"n/a\")\n",
    "                            free_l.append(\"n/a\")\n",
    "\n",
    "                        if price_scarp == \"Install\":\n",
    "                            free = True\n",
    "                            free_l.append(free)\n",
    "                            price.append(0)\n",
    "                            try:\n",
    "                                size.append(num_of_ins[3].get_text())\n",
    "                                number_of_installs.append(num_of_ins[4].get_text())\n",
    "                            except:\n",
    "                                number_of_installs.append(\"n/a\")\n",
    "                                print(\"Error during number_of_installs append\")\n",
    "                        else:\n",
    "                            free = False\n",
    "                            free_l.append(free)\n",
    "                            try:\n",
    "                                size.append(num_of_ins[3].get_text())\n",
    "                                number_of_installs.append(num_of_ins[6].get_text())\n",
    "                            except:\n",
    "                                number_of_installs.append(\"n/a\")\n",
    "                                print(\"Error during number_of_installs append\")\n",
    "                            price.append(price_scarp)\n",
    "                print(\"Next see more link\")\n",
    "        print(f\"len_title: {len(title)}, len_rating_count: {len(rating_count)}, len_free_count: {len(free_l)}\")\n",
    "        df = pd.DataFrame({\"App\": title, \"Category\": gen, \"Rating\": rating, \"Reviews\": rating_count, \"Size\":size,\n",
    "                           \"Installs\": number_of_installs,\"Free/Paid\": free_l ,\"Price\": price })\n",
    "        df.to_csv(dir, mode='a', header=False)"
   ]
  },
  {
   "cell_type": "code",
   "execution_count": null,
   "metadata": {},
   "outputs": [],
   "source": [
    "scrape_apps(response)"
   ]
  },
  {
   "cell_type": "code",
   "execution_count": 2,
   "metadata": {},
   "outputs": [],
   "source": [
    "def load_csv(file_name):\n",
    "    df = pd.read_csv(file_name, header=0, sep=',') \n",
    "    return df"
   ]
  },
  {
   "cell_type": "code",
   "execution_count": 3,
   "metadata": {},
   "outputs": [],
   "source": [
    "file_name = 'C:/Users/davidr241194/Documents/jupyter_notebook/GoogleAppStore.csv'\n",
    "df = load_csv(file_name)"
   ]
  },
  {
   "cell_type": "code",
   "execution_count": 4,
   "metadata": {},
   "outputs": [
    {
     "data": {
      "text/html": [
       "<div>\n",
       "<style scoped>\n",
       "    .dataframe tbody tr th:only-of-type {\n",
       "        vertical-align: middle;\n",
       "    }\n",
       "\n",
       "    .dataframe tbody tr th {\n",
       "        vertical-align: top;\n",
       "    }\n",
       "\n",
       "    .dataframe thead th {\n",
       "        text-align: right;\n",
       "    }\n",
       "</style>\n",
       "<table border=\"1\" class=\"dataframe\">\n",
       "  <thead>\n",
       "    <tr style=\"text-align: right;\">\n",
       "      <th></th>\n",
       "      <th>App</th>\n",
       "      <th>Category</th>\n",
       "      <th>Rating</th>\n",
       "      <th>Reviews</th>\n",
       "      <th>Size</th>\n",
       "      <th>Installs</th>\n",
       "      <th>Free/Paid</th>\n",
       "      <th>Price</th>\n",
       "    </tr>\n",
       "  </thead>\n",
       "  <tbody>\n",
       "    <tr>\n",
       "      <th>0</th>\n",
       "      <td>Photo Editor &amp; Candy Camera &amp; Grid &amp; ScrapBook</td>\n",
       "      <td>ART_AND_DESIGN</td>\n",
       "      <td>4.1</td>\n",
       "      <td>159</td>\n",
       "      <td>19M</td>\n",
       "      <td>10,000+</td>\n",
       "      <td>Free</td>\n",
       "      <td>0</td>\n",
       "    </tr>\n",
       "    <tr>\n",
       "      <th>1</th>\n",
       "      <td>Coloring book moana</td>\n",
       "      <td>ART_AND_DESIGN</td>\n",
       "      <td>3.9</td>\n",
       "      <td>967</td>\n",
       "      <td>14M</td>\n",
       "      <td>500,000+</td>\n",
       "      <td>Free</td>\n",
       "      <td>0</td>\n",
       "    </tr>\n",
       "    <tr>\n",
       "      <th>2</th>\n",
       "      <td>U Launcher Lite – FREE Live Cool Themes, Hide ...</td>\n",
       "      <td>ART_AND_DESIGN</td>\n",
       "      <td>4.7</td>\n",
       "      <td>87510</td>\n",
       "      <td>8.7M</td>\n",
       "      <td>5,000,000+</td>\n",
       "      <td>Free</td>\n",
       "      <td>0</td>\n",
       "    </tr>\n",
       "    <tr>\n",
       "      <th>3</th>\n",
       "      <td>Sketch - Draw &amp; Paint</td>\n",
       "      <td>ART_AND_DESIGN</td>\n",
       "      <td>4.5</td>\n",
       "      <td>215644</td>\n",
       "      <td>25M</td>\n",
       "      <td>50,000,000+</td>\n",
       "      <td>Free</td>\n",
       "      <td>0</td>\n",
       "    </tr>\n",
       "    <tr>\n",
       "      <th>4</th>\n",
       "      <td>Pixel Draw - Number Art Coloring Book</td>\n",
       "      <td>ART_AND_DESIGN</td>\n",
       "      <td>4.3</td>\n",
       "      <td>967</td>\n",
       "      <td>2.8M</td>\n",
       "      <td>100,000+</td>\n",
       "      <td>Free</td>\n",
       "      <td>0</td>\n",
       "    </tr>\n",
       "  </tbody>\n",
       "</table>\n",
       "</div>"
      ],
      "text/plain": [
       "                                                 App        Category  Rating  \\\n",
       "0     Photo Editor & Candy Camera & Grid & ScrapBook  ART_AND_DESIGN     4.1   \n",
       "1                                Coloring book moana  ART_AND_DESIGN     3.9   \n",
       "2  U Launcher Lite – FREE Live Cool Themes, Hide ...  ART_AND_DESIGN     4.7   \n",
       "3                              Sketch - Draw & Paint  ART_AND_DESIGN     4.5   \n",
       "4              Pixel Draw - Number Art Coloring Book  ART_AND_DESIGN     4.3   \n",
       "\n",
       "  Reviews  Size     Installs Free/Paid Price  \n",
       "0     159   19M      10,000+      Free     0  \n",
       "1     967   14M     500,000+      Free     0  \n",
       "2   87510  8.7M   5,000,000+      Free     0  \n",
       "3  215644   25M  50,000,000+      Free     0  \n",
       "4     967  2.8M     100,000+      Free     0  "
      ]
     },
     "execution_count": 4,
     "metadata": {},
     "output_type": "execute_result"
    }
   ],
   "source": [
    "df.head()"
   ]
  },
  {
   "cell_type": "code",
   "execution_count": 5,
   "metadata": {
    "scrolled": true
   },
   "outputs": [
    {
     "name": "stdout",
     "output_type": "stream",
     "text": [
      "<class 'pandas.core.frame.DataFrame'>\n",
      "RangeIndex: 10841 entries, 0 to 10840\n",
      "Data columns (total 8 columns):\n",
      " #   Column     Non-Null Count  Dtype  \n",
      "---  ------     --------------  -----  \n",
      " 0   App        10841 non-null  object \n",
      " 1   Category   10841 non-null  object \n",
      " 2   Rating     9367 non-null   float64\n",
      " 3   Reviews    10841 non-null  object \n",
      " 4   Size       10841 non-null  object \n",
      " 5   Installs   10841 non-null  object \n",
      " 6   Free/Paid  10840 non-null  object \n",
      " 7   Price      10841 non-null  object \n",
      "dtypes: float64(1), object(7)\n",
      "memory usage: 677.7+ KB\n"
     ]
    }
   ],
   "source": [
    "df.info()"
   ]
  },
  {
   "cell_type": "code",
   "execution_count": 6,
   "metadata": {
    "scrolled": true
   },
   "outputs": [
    {
     "data": {
      "text/plain": [
       "App             0\n",
       "Category        0\n",
       "Rating       1474\n",
       "Reviews         0\n",
       "Size            0\n",
       "Installs        0\n",
       "Free/Paid       1\n",
       "Price           0\n",
       "dtype: int64"
      ]
     },
     "execution_count": 6,
     "metadata": {},
     "output_type": "execute_result"
    }
   ],
   "source": [
    "df.isnull().sum()"
   ]
  },
  {
   "cell_type": "code",
   "execution_count": 7,
   "metadata": {},
   "outputs": [],
   "source": [
    "data_f = df.copy()"
   ]
  },
  {
   "cell_type": "code",
   "execution_count": 8,
   "metadata": {},
   "outputs": [
    {
     "data": {
      "text/html": [
       "<div>\n",
       "<style scoped>\n",
       "    .dataframe tbody tr th:only-of-type {\n",
       "        vertical-align: middle;\n",
       "    }\n",
       "\n",
       "    .dataframe tbody tr th {\n",
       "        vertical-align: top;\n",
       "    }\n",
       "\n",
       "    .dataframe thead th {\n",
       "        text-align: right;\n",
       "    }\n",
       "</style>\n",
       "<table border=\"1\" class=\"dataframe\">\n",
       "  <thead>\n",
       "    <tr style=\"text-align: right;\">\n",
       "      <th></th>\n",
       "      <th>App</th>\n",
       "      <th>Category</th>\n",
       "      <th>Rating</th>\n",
       "      <th>Reviews</th>\n",
       "      <th>Size</th>\n",
       "      <th>Installs</th>\n",
       "      <th>Free/Paid</th>\n",
       "      <th>Price</th>\n",
       "    </tr>\n",
       "  </thead>\n",
       "  <tbody>\n",
       "    <tr>\n",
       "      <th>9148</th>\n",
       "      <td>Command &amp; Conquer: Rivals</td>\n",
       "      <td>FAMILY</td>\n",
       "      <td>NaN</td>\n",
       "      <td>0</td>\n",
       "      <td>Varies with device</td>\n",
       "      <td>0</td>\n",
       "      <td>NaN</td>\n",
       "      <td>0</td>\n",
       "    </tr>\n",
       "  </tbody>\n",
       "</table>\n",
       "</div>"
      ],
      "text/plain": [
       "                            App Category  Rating Reviews                Size  \\\n",
       "9148  Command & Conquer: Rivals   FAMILY     NaN       0  Varies with device   \n",
       "\n",
       "     Installs Free/Paid Price  \n",
       "9148        0       NaN     0  "
      ]
     },
     "execution_count": 8,
     "metadata": {},
     "output_type": "execute_result"
    }
   ],
   "source": [
    "data_f[data_f['Free/Paid'].isnull()]"
   ]
  },
  {
   "cell_type": "code",
   "execution_count": 9,
   "metadata": {},
   "outputs": [],
   "source": [
    "data_f.iloc[9148,6] = 'Free'"
   ]
  },
  {
   "cell_type": "code",
   "execution_count": 10,
   "metadata": {},
   "outputs": [
    {
     "name": "stdout",
     "output_type": "stream",
     "text": [
      "<class 'pandas.core.frame.DataFrame'>\n",
      "RangeIndex: 10841 entries, 0 to 10840\n",
      "Data columns (total 8 columns):\n",
      " #   Column     Non-Null Count  Dtype  \n",
      "---  ------     --------------  -----  \n",
      " 0   App        10841 non-null  object \n",
      " 1   Category   10841 non-null  object \n",
      " 2   Rating     9367 non-null   float64\n",
      " 3   Reviews    10841 non-null  object \n",
      " 4   Size       10841 non-null  object \n",
      " 5   Installs   10841 non-null  object \n",
      " 6   Free/Paid  10841 non-null  object \n",
      " 7   Price      10841 non-null  object \n",
      "dtypes: float64(1), object(7)\n",
      "memory usage: 677.7+ KB\n"
     ]
    }
   ],
   "source": [
    "data_f.info()"
   ]
  },
  {
   "cell_type": "code",
   "execution_count": 11,
   "metadata": {},
   "outputs": [],
   "source": [
    "num_of_rows = len(data_f.axes[0])\n",
    "thresh_rows = 0.6 * num_of_rows\n",
    "data_f.dropna(axis=0,thresh=5,inplace = True)\n",
    "data_f.dropna(axis=1,thresh=thresh_rows,inplace = True)\n",
    "data_f.fillna(0, inplace=True)\n",
    "#numeric_col = data_f.select_dtypes(include=['number']).columns\n",
    "#for col in numeric_col:\n",
    "#    data_f[col].fillna(0, inplace=True)\n"
   ]
  },
  {
   "cell_type": "code",
   "execution_count": 12,
   "metadata": {
    "scrolled": true
   },
   "outputs": [
    {
     "name": "stdout",
     "output_type": "stream",
     "text": [
      "<class 'pandas.core.frame.DataFrame'>\n",
      "Int64Index: 10841 entries, 0 to 10840\n",
      "Data columns (total 8 columns):\n",
      " #   Column     Non-Null Count  Dtype  \n",
      "---  ------     --------------  -----  \n",
      " 0   App        10841 non-null  object \n",
      " 1   Category   10841 non-null  object \n",
      " 2   Rating     10841 non-null  float64\n",
      " 3   Reviews    10841 non-null  object \n",
      " 4   Size       10841 non-null  object \n",
      " 5   Installs   10841 non-null  object \n",
      " 6   Free/Paid  10841 non-null  object \n",
      " 7   Price      10841 non-null  object \n",
      "dtypes: float64(1), object(7)\n",
      "memory usage: 762.3+ KB\n"
     ]
    }
   ],
   "source": [
    "data_f.info()"
   ]
  },
  {
   "cell_type": "code",
   "execution_count": 13,
   "metadata": {},
   "outputs": [
    {
     "data": {
      "text/plain": [
       "485"
      ]
     },
     "execution_count": 13,
     "metadata": {},
     "output_type": "execute_result"
    }
   ],
   "source": [
    "data_f.duplicated().sum()"
   ]
  },
  {
   "cell_type": "code",
   "execution_count": 14,
   "metadata": {},
   "outputs": [],
   "source": [
    "data_f.drop_duplicates(inplace = True)"
   ]
  },
  {
   "cell_type": "code",
   "execution_count": 15,
   "metadata": {},
   "outputs": [
    {
     "data": {
      "text/plain": [
       "610"
      ]
     },
     "execution_count": 15,
     "metadata": {},
     "output_type": "execute_result"
    }
   ],
   "source": [
    "data_f.duplicated(subset=['App', 'Category', 'Free/Paid', 'Price']).sum()"
   ]
  },
  {
   "cell_type": "code",
   "execution_count": 16,
   "metadata": {},
   "outputs": [],
   "source": [
    "data_f.drop_duplicates(subset=['App', 'Category', 'Free/Paid', 'Price'], keep='first', inplace=True)"
   ]
  },
  {
   "cell_type": "code",
   "execution_count": 17,
   "metadata": {},
   "outputs": [
    {
     "name": "stdout",
     "output_type": "stream",
     "text": [
      "<class 'pandas.core.frame.DataFrame'>\n",
      "Int64Index: 9746 entries, 0 to 10840\n",
      "Data columns (total 8 columns):\n",
      " #   Column     Non-Null Count  Dtype  \n",
      "---  ------     --------------  -----  \n",
      " 0   App        9746 non-null   object \n",
      " 1   Category   9746 non-null   object \n",
      " 2   Rating     9746 non-null   float64\n",
      " 3   Reviews    9746 non-null   object \n",
      " 4   Size       9746 non-null   object \n",
      " 5   Installs   9746 non-null   object \n",
      " 6   Free/Paid  9746 non-null   object \n",
      " 7   Price      9746 non-null   object \n",
      "dtypes: float64(1), object(7)\n",
      "memory usage: 685.3+ KB\n"
     ]
    }
   ],
   "source": [
    "data_f.info()"
   ]
  },
  {
   "cell_type": "code",
   "execution_count": 18,
   "metadata": {},
   "outputs": [
    {
     "data": {
      "text/html": [
       "<div>\n",
       "<style scoped>\n",
       "    .dataframe tbody tr th:only-of-type {\n",
       "        vertical-align: middle;\n",
       "    }\n",
       "\n",
       "    .dataframe tbody tr th {\n",
       "        vertical-align: top;\n",
       "    }\n",
       "\n",
       "    .dataframe thead th {\n",
       "        text-align: right;\n",
       "    }\n",
       "</style>\n",
       "<table border=\"1\" class=\"dataframe\">\n",
       "  <thead>\n",
       "    <tr style=\"text-align: right;\">\n",
       "      <th></th>\n",
       "      <th>Rating</th>\n",
       "    </tr>\n",
       "  </thead>\n",
       "  <tbody>\n",
       "    <tr>\n",
       "      <th>count</th>\n",
       "      <td>9367.000000</td>\n",
       "    </tr>\n",
       "    <tr>\n",
       "      <th>mean</th>\n",
       "      <td>4.193338</td>\n",
       "    </tr>\n",
       "    <tr>\n",
       "      <th>std</th>\n",
       "      <td>0.537431</td>\n",
       "    </tr>\n",
       "    <tr>\n",
       "      <th>min</th>\n",
       "      <td>1.000000</td>\n",
       "    </tr>\n",
       "    <tr>\n",
       "      <th>25%</th>\n",
       "      <td>4.000000</td>\n",
       "    </tr>\n",
       "    <tr>\n",
       "      <th>50%</th>\n",
       "      <td>4.300000</td>\n",
       "    </tr>\n",
       "    <tr>\n",
       "      <th>75%</th>\n",
       "      <td>4.500000</td>\n",
       "    </tr>\n",
       "    <tr>\n",
       "      <th>max</th>\n",
       "      <td>19.000000</td>\n",
       "    </tr>\n",
       "  </tbody>\n",
       "</table>\n",
       "</div>"
      ],
      "text/plain": [
       "            Rating\n",
       "count  9367.000000\n",
       "mean      4.193338\n",
       "std       0.537431\n",
       "min       1.000000\n",
       "25%       4.000000\n",
       "50%       4.300000\n",
       "75%       4.500000\n",
       "max      19.000000"
      ]
     },
     "execution_count": 18,
     "metadata": {},
     "output_type": "execute_result"
    }
   ],
   "source": [
    "df.describe()"
   ]
  },
  {
   "cell_type": "code",
   "execution_count": 19,
   "metadata": {},
   "outputs": [
    {
     "data": {
      "text/html": [
       "<div>\n",
       "<style scoped>\n",
       "    .dataframe tbody tr th:only-of-type {\n",
       "        vertical-align: middle;\n",
       "    }\n",
       "\n",
       "    .dataframe tbody tr th {\n",
       "        vertical-align: top;\n",
       "    }\n",
       "\n",
       "    .dataframe thead th {\n",
       "        text-align: right;\n",
       "    }\n",
       "</style>\n",
       "<table border=\"1\" class=\"dataframe\">\n",
       "  <thead>\n",
       "    <tr style=\"text-align: right;\">\n",
       "      <th></th>\n",
       "      <th>App</th>\n",
       "      <th>Category</th>\n",
       "      <th>Rating</th>\n",
       "      <th>Reviews</th>\n",
       "      <th>Size</th>\n",
       "      <th>Installs</th>\n",
       "      <th>Free/Paid</th>\n",
       "      <th>Price</th>\n",
       "    </tr>\n",
       "  </thead>\n",
       "  <tbody>\n",
       "    <tr>\n",
       "      <th>10466</th>\n",
       "      <td>Wi-Fi Networks</td>\n",
       "      <td>PRODUCTIVITY</td>\n",
       "      <td>4.2</td>\n",
       "      <td>115</td>\n",
       "      <td>1.4M</td>\n",
       "      <td>10,000+</td>\n",
       "      <td>Free</td>\n",
       "      <td>0</td>\n",
       "    </tr>\n",
       "    <tr>\n",
       "      <th>10467</th>\n",
       "      <td>FI CFL</td>\n",
       "      <td>FINANCE</td>\n",
       "      <td>3.7</td>\n",
       "      <td>112</td>\n",
       "      <td>3.9M</td>\n",
       "      <td>10,000+</td>\n",
       "      <td>Free</td>\n",
       "      <td>0</td>\n",
       "    </tr>\n",
       "    <tr>\n",
       "      <th>10468</th>\n",
       "      <td>Tassa.fi Finland</td>\n",
       "      <td>LIFESTYLE</td>\n",
       "      <td>3.6</td>\n",
       "      <td>346</td>\n",
       "      <td>7.5M</td>\n",
       "      <td>50,000+</td>\n",
       "      <td>Free</td>\n",
       "      <td>0</td>\n",
       "    </tr>\n",
       "    <tr>\n",
       "      <th>10469</th>\n",
       "      <td>TownWiFi | Wi-Fi Everywhere</td>\n",
       "      <td>COMMUNICATION</td>\n",
       "      <td>3.9</td>\n",
       "      <td>2372</td>\n",
       "      <td>58M</td>\n",
       "      <td>500,000+</td>\n",
       "      <td>Free</td>\n",
       "      <td>0</td>\n",
       "    </tr>\n",
       "    <tr>\n",
       "      <th>10470</th>\n",
       "      <td>Jazz Wi-Fi</td>\n",
       "      <td>COMMUNICATION</td>\n",
       "      <td>3.4</td>\n",
       "      <td>49</td>\n",
       "      <td>4.0M</td>\n",
       "      <td>10,000+</td>\n",
       "      <td>Free</td>\n",
       "      <td>0</td>\n",
       "    </tr>\n",
       "    <tr>\n",
       "      <th>10471</th>\n",
       "      <td>Xposed Wi-Fi-Pwd</td>\n",
       "      <td>PERSONALIZATION</td>\n",
       "      <td>3.5</td>\n",
       "      <td>1042</td>\n",
       "      <td>404k</td>\n",
       "      <td>100,000+</td>\n",
       "      <td>Free</td>\n",
       "      <td>0</td>\n",
       "    </tr>\n",
       "    <tr>\n",
       "      <th>10472</th>\n",
       "      <td>Life Made WI-Fi Touchscreen Photo Frame</td>\n",
       "      <td>1.9</td>\n",
       "      <td>19.0</td>\n",
       "      <td>3.0M</td>\n",
       "      <td>1,000+</td>\n",
       "      <td>Free</td>\n",
       "      <td>0</td>\n",
       "      <td>0</td>\n",
       "    </tr>\n",
       "    <tr>\n",
       "      <th>10474</th>\n",
       "      <td>Sat-Fi Voice</td>\n",
       "      <td>COMMUNICATION</td>\n",
       "      <td>3.4</td>\n",
       "      <td>37</td>\n",
       "      <td>14M</td>\n",
       "      <td>1,000+</td>\n",
       "      <td>Free</td>\n",
       "      <td>0</td>\n",
       "    </tr>\n",
       "    <tr>\n",
       "      <th>10475</th>\n",
       "      <td>Wi-Fi Visualizer</td>\n",
       "      <td>TOOLS</td>\n",
       "      <td>3.9</td>\n",
       "      <td>132</td>\n",
       "      <td>2.6M</td>\n",
       "      <td>50,000+</td>\n",
       "      <td>Free</td>\n",
       "      <td>0</td>\n",
       "    </tr>\n",
       "    <tr>\n",
       "      <th>10476</th>\n",
       "      <td>Lennox iComfort Wi-Fi</td>\n",
       "      <td>LIFESTYLE</td>\n",
       "      <td>3.0</td>\n",
       "      <td>552</td>\n",
       "      <td>7.6M</td>\n",
       "      <td>50,000+</td>\n",
       "      <td>Free</td>\n",
       "      <td>0</td>\n",
       "    </tr>\n",
       "  </tbody>\n",
       "</table>\n",
       "</div>"
      ],
      "text/plain": [
       "                                           App         Category  Rating  \\\n",
       "10466                           Wi-Fi Networks     PRODUCTIVITY     4.2   \n",
       "10467                                   FI CFL          FINANCE     3.7   \n",
       "10468                         Tassa.fi Finland        LIFESTYLE     3.6   \n",
       "10469              TownWiFi | Wi-Fi Everywhere    COMMUNICATION     3.9   \n",
       "10470                               Jazz Wi-Fi    COMMUNICATION     3.4   \n",
       "10471                         Xposed Wi-Fi-Pwd  PERSONALIZATION     3.5   \n",
       "10472  Life Made WI-Fi Touchscreen Photo Frame              1.9    19.0   \n",
       "10474                             Sat-Fi Voice    COMMUNICATION     3.4   \n",
       "10475                         Wi-Fi Visualizer            TOOLS     3.9   \n",
       "10476                    Lennox iComfort Wi-Fi        LIFESTYLE     3.0   \n",
       "\n",
       "      Reviews    Size  Installs Free/Paid Price  \n",
       "10466     115    1.4M   10,000+      Free     0  \n",
       "10467     112    3.9M   10,000+      Free     0  \n",
       "10468     346    7.5M   50,000+      Free     0  \n",
       "10469    2372     58M  500,000+      Free     0  \n",
       "10470      49    4.0M   10,000+      Free     0  \n",
       "10471    1042    404k  100,000+      Free     0  \n",
       "10472    3.0M  1,000+      Free         0     0  \n",
       "10474      37     14M    1,000+      Free     0  \n",
       "10475     132    2.6M   50,000+      Free     0  \n",
       "10476     552    7.6M   50,000+      Free     0  "
      ]
     },
     "execution_count": 19,
     "metadata": {},
     "output_type": "execute_result"
    }
   ],
   "source": [
    "data_f.head(9390).tail(10)"
   ]
  },
  {
   "cell_type": "code",
   "execution_count": 20,
   "metadata": {},
   "outputs": [],
   "source": [
    "data_f = data_f.drop(data_f.loc[data_f.index==10472].index)\n"
   ]
  },
  {
   "cell_type": "code",
   "execution_count": 21,
   "metadata": {},
   "outputs": [
    {
     "data": {
      "text/html": [
       "<div>\n",
       "<style scoped>\n",
       "    .dataframe tbody tr th:only-of-type {\n",
       "        vertical-align: middle;\n",
       "    }\n",
       "\n",
       "    .dataframe tbody tr th {\n",
       "        vertical-align: top;\n",
       "    }\n",
       "\n",
       "    .dataframe thead th {\n",
       "        text-align: right;\n",
       "    }\n",
       "</style>\n",
       "<table border=\"1\" class=\"dataframe\">\n",
       "  <thead>\n",
       "    <tr style=\"text-align: right;\">\n",
       "      <th></th>\n",
       "      <th>App</th>\n",
       "      <th>Category</th>\n",
       "      <th>Rating</th>\n",
       "      <th>Reviews</th>\n",
       "      <th>Size</th>\n",
       "      <th>Installs</th>\n",
       "      <th>Free/Paid</th>\n",
       "      <th>Price</th>\n",
       "    </tr>\n",
       "  </thead>\n",
       "  <tbody>\n",
       "    <tr>\n",
       "      <th>10466</th>\n",
       "      <td>Wi-Fi Networks</td>\n",
       "      <td>PRODUCTIVITY</td>\n",
       "      <td>4.2</td>\n",
       "      <td>115</td>\n",
       "      <td>1.4M</td>\n",
       "      <td>10,000+</td>\n",
       "      <td>Free</td>\n",
       "      <td>0</td>\n",
       "    </tr>\n",
       "    <tr>\n",
       "      <th>10467</th>\n",
       "      <td>FI CFL</td>\n",
       "      <td>FINANCE</td>\n",
       "      <td>3.7</td>\n",
       "      <td>112</td>\n",
       "      <td>3.9M</td>\n",
       "      <td>10,000+</td>\n",
       "      <td>Free</td>\n",
       "      <td>0</td>\n",
       "    </tr>\n",
       "    <tr>\n",
       "      <th>10468</th>\n",
       "      <td>Tassa.fi Finland</td>\n",
       "      <td>LIFESTYLE</td>\n",
       "      <td>3.6</td>\n",
       "      <td>346</td>\n",
       "      <td>7.5M</td>\n",
       "      <td>50,000+</td>\n",
       "      <td>Free</td>\n",
       "      <td>0</td>\n",
       "    </tr>\n",
       "    <tr>\n",
       "      <th>10469</th>\n",
       "      <td>TownWiFi | Wi-Fi Everywhere</td>\n",
       "      <td>COMMUNICATION</td>\n",
       "      <td>3.9</td>\n",
       "      <td>2372</td>\n",
       "      <td>58M</td>\n",
       "      <td>500,000+</td>\n",
       "      <td>Free</td>\n",
       "      <td>0</td>\n",
       "    </tr>\n",
       "    <tr>\n",
       "      <th>10470</th>\n",
       "      <td>Jazz Wi-Fi</td>\n",
       "      <td>COMMUNICATION</td>\n",
       "      <td>3.4</td>\n",
       "      <td>49</td>\n",
       "      <td>4.0M</td>\n",
       "      <td>10,000+</td>\n",
       "      <td>Free</td>\n",
       "      <td>0</td>\n",
       "    </tr>\n",
       "    <tr>\n",
       "      <th>10471</th>\n",
       "      <td>Xposed Wi-Fi-Pwd</td>\n",
       "      <td>PERSONALIZATION</td>\n",
       "      <td>3.5</td>\n",
       "      <td>1042</td>\n",
       "      <td>404k</td>\n",
       "      <td>100,000+</td>\n",
       "      <td>Free</td>\n",
       "      <td>0</td>\n",
       "    </tr>\n",
       "    <tr>\n",
       "      <th>10474</th>\n",
       "      <td>Sat-Fi Voice</td>\n",
       "      <td>COMMUNICATION</td>\n",
       "      <td>3.4</td>\n",
       "      <td>37</td>\n",
       "      <td>14M</td>\n",
       "      <td>1,000+</td>\n",
       "      <td>Free</td>\n",
       "      <td>0</td>\n",
       "    </tr>\n",
       "    <tr>\n",
       "      <th>10475</th>\n",
       "      <td>Wi-Fi Visualizer</td>\n",
       "      <td>TOOLS</td>\n",
       "      <td>3.9</td>\n",
       "      <td>132</td>\n",
       "      <td>2.6M</td>\n",
       "      <td>50,000+</td>\n",
       "      <td>Free</td>\n",
       "      <td>0</td>\n",
       "    </tr>\n",
       "    <tr>\n",
       "      <th>10476</th>\n",
       "      <td>Lennox iComfort Wi-Fi</td>\n",
       "      <td>LIFESTYLE</td>\n",
       "      <td>3.0</td>\n",
       "      <td>552</td>\n",
       "      <td>7.6M</td>\n",
       "      <td>50,000+</td>\n",
       "      <td>Free</td>\n",
       "      <td>0</td>\n",
       "    </tr>\n",
       "    <tr>\n",
       "      <th>10477</th>\n",
       "      <td>Sci-Fi Sounds and Ringtones</td>\n",
       "      <td>PERSONALIZATION</td>\n",
       "      <td>3.6</td>\n",
       "      <td>128</td>\n",
       "      <td>11M</td>\n",
       "      <td>10,000+</td>\n",
       "      <td>Free</td>\n",
       "      <td>0</td>\n",
       "    </tr>\n",
       "  </tbody>\n",
       "</table>\n",
       "</div>"
      ],
      "text/plain": [
       "                               App         Category  Rating Reviews  Size  \\\n",
       "10466               Wi-Fi Networks     PRODUCTIVITY     4.2     115  1.4M   \n",
       "10467                       FI CFL          FINANCE     3.7     112  3.9M   \n",
       "10468             Tassa.fi Finland        LIFESTYLE     3.6     346  7.5M   \n",
       "10469  TownWiFi | Wi-Fi Everywhere    COMMUNICATION     3.9    2372   58M   \n",
       "10470                   Jazz Wi-Fi    COMMUNICATION     3.4      49  4.0M   \n",
       "10471             Xposed Wi-Fi-Pwd  PERSONALIZATION     3.5    1042  404k   \n",
       "10474                 Sat-Fi Voice    COMMUNICATION     3.4      37   14M   \n",
       "10475             Wi-Fi Visualizer            TOOLS     3.9     132  2.6M   \n",
       "10476        Lennox iComfort Wi-Fi        LIFESTYLE     3.0     552  7.6M   \n",
       "10477  Sci-Fi Sounds and Ringtones  PERSONALIZATION     3.6     128   11M   \n",
       "\n",
       "       Installs Free/Paid Price  \n",
       "10466   10,000+      Free     0  \n",
       "10467   10,000+      Free     0  \n",
       "10468   50,000+      Free     0  \n",
       "10469  500,000+      Free     0  \n",
       "10470   10,000+      Free     0  \n",
       "10471  100,000+      Free     0  \n",
       "10474    1,000+      Free     0  \n",
       "10475   50,000+      Free     0  \n",
       "10476   50,000+      Free     0  \n",
       "10477   10,000+      Free     0  "
      ]
     },
     "execution_count": 21,
     "metadata": {},
     "output_type": "execute_result"
    }
   ],
   "source": [
    "data_f.head(9390).tail(10)"
   ]
  },
  {
   "cell_type": "code",
   "execution_count": 22,
   "metadata": {},
   "outputs": [],
   "source": [
    "data_f['Reviews'] = data_f['Reviews'].replace('[\\.]', '', regex=True).replace('[M]', '00000', regex=True).astype(int)"
   ]
  },
  {
   "cell_type": "code",
   "execution_count": 23,
   "metadata": {},
   "outputs": [],
   "source": [
    "data_f['Size'] = data_f['Size'].replace('[Varies with device]', '', regex=True).replace('[M]', '', regex=True)\n",
    "data_f['Size'] = pd.to_numeric(data_f['Size'], errors='coerce')"
   ]
  },
  {
   "cell_type": "code",
   "execution_count": 24,
   "metadata": {},
   "outputs": [],
   "source": [
    "data_f['Installs'] = data_f['Installs'].replace('[,]', '', regex=True).replace('[+]', '', regex=True)\n",
    "data_f['Installs'] = pd.to_numeric(data_f['Installs'], errors='coerce')"
   ]
  },
  {
   "cell_type": "code",
   "execution_count": 25,
   "metadata": {},
   "outputs": [],
   "source": [
    "data_f['Price'] = data_f['Price'].replace('[/$/,B,u,y]', '', regex=True)\n",
    "data_f['Price'] = pd.to_numeric(data_f['Price'], errors='coerce')\n"
   ]
  },
  {
   "cell_type": "code",
   "execution_count": 26,
   "metadata": {},
   "outputs": [
    {
     "data": {
      "text/plain": [
       "App             0\n",
       "Category        0\n",
       "Rating          0\n",
       "Reviews         0\n",
       "Size         1564\n",
       "Installs        0\n",
       "Free/Paid       0\n",
       "Price           0\n",
       "dtype: int64"
      ]
     },
     "execution_count": 26,
     "metadata": {},
     "output_type": "execute_result"
    }
   ],
   "source": [
    "data_f.isnull().sum()"
   ]
  },
  {
   "cell_type": "code",
   "execution_count": 27,
   "metadata": {
    "scrolled": true
   },
   "outputs": [
    {
     "data": {
      "text/plain": [
       "App          0\n",
       "Category     0\n",
       "Rating       0\n",
       "Reviews      0\n",
       "Size         0\n",
       "Installs     0\n",
       "Free/Paid    0\n",
       "Price        0\n",
       "dtype: int64"
      ]
     },
     "execution_count": 27,
     "metadata": {},
     "output_type": "execute_result"
    }
   ],
   "source": [
    "data_f.dropna(inplace=True)\n",
    "data_f.isnull().sum()\n"
   ]
  },
  {
   "cell_type": "code",
   "execution_count": 30,
   "metadata": {},
   "outputs": [
    {
     "data": {
      "text/plain": [
       "(8181, 8)"
      ]
     },
     "execution_count": 30,
     "metadata": {},
     "output_type": "execute_result"
    }
   ],
   "source": [
    "data_f.shape\n"
   ]
  },
  {
   "cell_type": "code",
   "execution_count": 31,
   "metadata": {},
   "outputs": [],
   "source": [
    "temp_Installs_list = []\n",
    "tmep_Size_list= []\n",
    "temp_Price_list = []\n",
    "temp_Installs_list = data_f['Installs']\n",
    "tmep_Size_list= data_f['Size']\n",
    "temp_Price_list = data_f['Price']"
   ]
  },
  {
   "cell_type": "code",
   "execution_count": 32,
   "metadata": {},
   "outputs": [],
   "source": [
    "data_f['Installs(over then)'] = temp_Installs_list\n",
    "data_f['Size(M)'] = tmep_Size_list\n",
    "data_f['Price($)'] = temp_Price_list"
   ]
  },
  {
   "cell_type": "code",
   "execution_count": 33,
   "metadata": {},
   "outputs": [],
   "source": [
    "data_f.drop(['Size', 'Installs', 'Price'], axis = 'columns', inplace=True)\n",
    "#ri.drop(['county_name', 'state'], axis='columns', inplace=True)\n"
   ]
  },
  {
   "cell_type": "code",
   "execution_count": 34,
   "metadata": {},
   "outputs": [],
   "source": [
    "data_f = data_f[['App', 'Category','Rating','Reviews','Size(M)','Free/Paid','Price($)','Installs(over then)']]"
   ]
  },
  {
   "cell_type": "code",
   "execution_count": 35,
   "metadata": {},
   "outputs": [
    {
     "data": {
      "text/html": [
       "<div>\n",
       "<style scoped>\n",
       "    .dataframe tbody tr th:only-of-type {\n",
       "        vertical-align: middle;\n",
       "    }\n",
       "\n",
       "    .dataframe tbody tr th {\n",
       "        vertical-align: top;\n",
       "    }\n",
       "\n",
       "    .dataframe thead th {\n",
       "        text-align: right;\n",
       "    }\n",
       "</style>\n",
       "<table border=\"1\" class=\"dataframe\">\n",
       "  <thead>\n",
       "    <tr style=\"text-align: right;\">\n",
       "      <th></th>\n",
       "      <th>App</th>\n",
       "      <th>Category</th>\n",
       "      <th>Rating</th>\n",
       "      <th>Reviews</th>\n",
       "      <th>Size(M)</th>\n",
       "      <th>Free/Paid</th>\n",
       "      <th>Price($)</th>\n",
       "      <th>Installs(over then)</th>\n",
       "    </tr>\n",
       "  </thead>\n",
       "  <tbody>\n",
       "    <tr>\n",
       "      <th>0</th>\n",
       "      <td>Photo Editor &amp; Candy Camera &amp; Grid &amp; ScrapBook</td>\n",
       "      <td>ART_AND_DESIGN</td>\n",
       "      <td>4.1</td>\n",
       "      <td>159</td>\n",
       "      <td>19.0</td>\n",
       "      <td>Free</td>\n",
       "      <td>0.0</td>\n",
       "      <td>10000</td>\n",
       "    </tr>\n",
       "    <tr>\n",
       "      <th>1</th>\n",
       "      <td>Coloring book moana</td>\n",
       "      <td>ART_AND_DESIGN</td>\n",
       "      <td>3.9</td>\n",
       "      <td>967</td>\n",
       "      <td>14.0</td>\n",
       "      <td>Free</td>\n",
       "      <td>0.0</td>\n",
       "      <td>500000</td>\n",
       "    </tr>\n",
       "    <tr>\n",
       "      <th>2</th>\n",
       "      <td>U Launcher Lite – FREE Live Cool Themes, Hide ...</td>\n",
       "      <td>ART_AND_DESIGN</td>\n",
       "      <td>4.7</td>\n",
       "      <td>87510</td>\n",
       "      <td>8.7</td>\n",
       "      <td>Free</td>\n",
       "      <td>0.0</td>\n",
       "      <td>5000000</td>\n",
       "    </tr>\n",
       "    <tr>\n",
       "      <th>3</th>\n",
       "      <td>Sketch - Draw &amp; Paint</td>\n",
       "      <td>ART_AND_DESIGN</td>\n",
       "      <td>4.5</td>\n",
       "      <td>215644</td>\n",
       "      <td>25.0</td>\n",
       "      <td>Free</td>\n",
       "      <td>0.0</td>\n",
       "      <td>50000000</td>\n",
       "    </tr>\n",
       "    <tr>\n",
       "      <th>4</th>\n",
       "      <td>Pixel Draw - Number Art Coloring Book</td>\n",
       "      <td>ART_AND_DESIGN</td>\n",
       "      <td>4.3</td>\n",
       "      <td>967</td>\n",
       "      <td>2.8</td>\n",
       "      <td>Free</td>\n",
       "      <td>0.0</td>\n",
       "      <td>100000</td>\n",
       "    </tr>\n",
       "  </tbody>\n",
       "</table>\n",
       "</div>"
      ],
      "text/plain": [
       "                                                 App        Category  Rating  \\\n",
       "0     Photo Editor & Candy Camera & Grid & ScrapBook  ART_AND_DESIGN     4.1   \n",
       "1                                Coloring book moana  ART_AND_DESIGN     3.9   \n",
       "2  U Launcher Lite – FREE Live Cool Themes, Hide ...  ART_AND_DESIGN     4.7   \n",
       "3                              Sketch - Draw & Paint  ART_AND_DESIGN     4.5   \n",
       "4              Pixel Draw - Number Art Coloring Book  ART_AND_DESIGN     4.3   \n",
       "\n",
       "   Reviews  Size(M) Free/Paid  Price($)  Installs(over then)  \n",
       "0      159     19.0      Free       0.0                10000  \n",
       "1      967     14.0      Free       0.0               500000  \n",
       "2    87510      8.7      Free       0.0              5000000  \n",
       "3   215644     25.0      Free       0.0             50000000  \n",
       "4      967      2.8      Free       0.0               100000  "
      ]
     },
     "execution_count": 35,
     "metadata": {},
     "output_type": "execute_result"
    }
   ],
   "source": [
    "data_f.head()"
   ]
  },
  {
   "cell_type": "code",
   "execution_count": 36,
   "metadata": {},
   "outputs": [
    {
     "name": "stderr",
     "output_type": "stream",
     "text": [
      "C:\\Users\\davidr241194\\anaconda3\\lib\\site-packages\\seaborn\\_decorators.py:36: FutureWarning: Pass the following variable as a keyword arg: x. From version 0.12, the only valid positional argument will be `data`, and passing other arguments without an explicit keyword will result in an error or misinterpretation.\n",
      "  warnings.warn(\n"
     ]
    },
    {
     "data": {
      "text/plain": [
       "<AxesSubplot:xlabel='Rating'>"
      ]
     },
     "execution_count": 36,
     "metadata": {},
     "output_type": "execute_result"
    },
    {
     "data": {
      "image/png": "[encoded data removed]",
      "text/plain": [
       "<Figure size 432x288 with 1 Axes>"
      ]
     },
     "metadata": {
      "needs_background": "light"
     },
     "output_type": "display_data"
    }
   ],
   "source": [
    "sns.boxplot(data_f['Rating'])"
   ]
  },
  {
   "cell_type": "code",
   "execution_count": 37,
   "metadata": {},
   "outputs": [
    {
     "name": "stderr",
     "output_type": "stream",
     "text": [
      "C:\\Users\\davidr241194\\anaconda3\\lib\\site-packages\\seaborn\\_decorators.py:36: FutureWarning: Pass the following variable as a keyword arg: x. From version 0.12, the only valid positional argument will be `data`, and passing other arguments without an explicit keyword will result in an error or misinterpretation.\n",
      "  warnings.warn(\n"
     ]
    },
    {
     "data": {
      "text/plain": [
       "<AxesSubplot:xlabel='Reviews'>"
      ]
     },
     "execution_count": 37,
     "metadata": {},
     "output_type": "execute_result"
    },
    {
     "data": {
      "image/png": "[encoded data removed]",
      "text/plain": [
       "<Figure size 432x288 with 1 Axes>"
      ]
     },
     "metadata": {
      "needs_background": "light"
     },
     "output_type": "display_data"
    }
   ],
   "source": [
    "sns.boxplot(data_f['Reviews'])"
   ]
  },
  {
   "cell_type": "code",
   "execution_count": 38,
   "metadata": {},
   "outputs": [
    {
     "data": {
      "text/plain": [
       "count    8.181000e+03\n",
       "mean     1.458004e+05\n",
       "std      1.162325e+06\n",
       "min      0.000000e+00\n",
       "25%      1.800000e+01\n",
       "50%      5.600000e+02\n",
       "75%      1.836400e+04\n",
       "max      4.489172e+07\n",
       "Name: Reviews, dtype: float64"
      ]
     },
     "execution_count": 38,
     "metadata": {},
     "output_type": "execute_result"
    }
   ],
   "source": [
    "data_f['Reviews'].describe()"
   ]
  },
  {
   "cell_type": "code",
   "execution_count": 39,
   "metadata": {},
   "outputs": [
    {
     "name": "stderr",
     "output_type": "stream",
     "text": [
      "C:\\Users\\davidr241194\\anaconda3\\lib\\site-packages\\seaborn\\_decorators.py:36: FutureWarning: Pass the following variable as a keyword arg: x. From version 0.12, the only valid positional argument will be `data`, and passing other arguments without an explicit keyword will result in an error or misinterpretation.\n",
      "  warnings.warn(\n"
     ]
    },
    {
     "data": {
      "text/plain": [
       "<AxesSubplot:xlabel='Size(M)'>"
      ]
     },
     "execution_count": 39,
     "metadata": {},
     "output_type": "execute_result"
    },
    {
     "data": {
      "image/png": "[encoded data removed]",
      "text/plain": [
       "<Figure size 432x288 with 1 Axes>"
      ]
     },
     "metadata": {
      "needs_background": "light"
     },
     "output_type": "display_data"
    }
   ],
   "source": [
    "sns.boxplot(data_f['Size(M)'])"
   ]
  },
  {
   "cell_type": "code",
   "execution_count": 40,
   "metadata": {},
   "outputs": [
    {
     "name": "stderr",
     "output_type": "stream",
     "text": [
      "C:\\Users\\davidr241194\\anaconda3\\lib\\site-packages\\seaborn\\_decorators.py:36: FutureWarning: Pass the following variable as a keyword arg: x. From version 0.12, the only valid positional argument will be `data`, and passing other arguments without an explicit keyword will result in an error or misinterpretation.\n",
      "  warnings.warn(\n"
     ]
    },
    {
     "data": {
      "text/plain": [
       "<AxesSubplot:xlabel='Price($)'>"
      ]
     },
     "execution_count": 40,
     "metadata": {},
     "output_type": "execute_result"
    },
    {
     "data": {
      "image/png": "[encoded data removed]",
      "text/plain": [
       "<Figure size 432x288 with 1 Axes>"
      ]
     },
     "metadata": {
      "needs_background": "light"
     },
     "output_type": "display_data"
    }
   ],
   "source": [
    "sns.boxplot(data_f['Price($)'])"
   ]
  },
  {
   "cell_type": "code",
   "execution_count": 41,
   "metadata": {},
   "outputs": [
    {
     "data": {
      "text/plain": [
       "22"
      ]
     },
     "execution_count": 41,
     "metadata": {},
     "output_type": "execute_result"
    }
   ],
   "source": [
    "len(data_f[data_f['Price($)']>50])"
   ]
  },
  {
   "cell_type": "code",
   "execution_count": 42,
   "metadata": {},
   "outputs": [],
   "source": [
    "temp_delete_list =[]\n",
    "temp_delete_list=data_f[data_f['Price($)']>50].index"
   ]
  },
  {
   "cell_type": "code",
   "execution_count": 43,
   "metadata": {},
   "outputs": [
    {
     "data": {
      "text/plain": [
       "Int64Index([2253, 2390, 4197, 4362, 4367, 5351, 5354, 5355, 5356, 5357, 5358,\n",
       "            5362, 5364, 5366, 5369, 5373, 6624, 6692, 9719, 9730, 9917, 9934],\n",
       "           dtype='int64')"
      ]
     },
     "execution_count": 43,
     "metadata": {},
     "output_type": "execute_result"
    }
   ],
   "source": [
    "temp_delete_list"
   ]
  },
  {
   "cell_type": "code",
   "execution_count": 44,
   "metadata": {},
   "outputs": [],
   "source": [
    "for i in temp_delete_list:\n",
    "    data_f = data_f.drop(data_f.loc[data_f.index==i].index)\n",
    "    #data_f = data_f.drop(data_f.loc[data_f.index==10472].index)"
   ]
  },
  {
   "cell_type": "code",
   "execution_count": 45,
   "metadata": {},
   "outputs": [
    {
     "data": {
      "text/plain": [
       "0"
      ]
     },
     "execution_count": 45,
     "metadata": {},
     "output_type": "execute_result"
    }
   ],
   "source": [
    "len(data_f[data_f['Price($)']>50])"
   ]
  },
  {
   "cell_type": "code",
   "execution_count": 46,
   "metadata": {},
   "outputs": [
    {
     "data": {
      "text/plain": [
       "App                    0\n",
       "Category               0\n",
       "Rating                 0\n",
       "Reviews                0\n",
       "Size(M)                0\n",
       "Free/Paid              0\n",
       "Price($)               0\n",
       "Installs(over then)    0\n",
       "dtype: int64"
      ]
     },
     "execution_count": 46,
     "metadata": {},
     "output_type": "execute_result"
    }
   ],
   "source": [
    "data_f.isnull().sum()"
   ]
  },
  {
   "cell_type": "code",
   "execution_count": 47,
   "metadata": {},
   "outputs": [
    {
     "name": "stderr",
     "output_type": "stream",
     "text": [
      "C:\\Users\\davidr241194\\anaconda3\\lib\\site-packages\\seaborn\\_decorators.py:36: FutureWarning: Pass the following variable as a keyword arg: x. From version 0.12, the only valid positional argument will be `data`, and passing other arguments without an explicit keyword will result in an error or misinterpretation.\n",
      "  warnings.warn(\n"
     ]
    },
    {
     "data": {
      "text/plain": [
       "<AxesSubplot:xlabel='Installs(over then)'>"
      ]
     },
     "execution_count": 47,
     "metadata": {},
     "output_type": "execute_result"
    },
    {
     "data": {
      "image/png": "[encoded data removed]",
      "text/plain": [
       "<Figure size 432x288 with 1 Axes>"
      ]
     },
     "metadata": {
      "needs_background": "light"
     },
     "output_type": "display_data"
    }
   ],
   "source": [
    "sns.boxplot(data_f['Installs(over then)'])"
   ]
  },
  {
   "cell_type": "code",
   "execution_count": 48,
   "metadata": {
    "scrolled": true
   },
   "outputs": [],
   "source": [
    "df3=data_f.copy()"
   ]
  },
  {
   "cell_type": "code",
   "execution_count": 49,
   "metadata": {},
   "outputs": [
    {
     "name": "stdout",
     "output_type": "stream",
     "text": [
      "<class 'pandas.core.frame.DataFrame'>\n",
      "Int64Index: 8159 entries, 0 to 10840\n",
      "Data columns (total 8 columns):\n",
      " #   Column               Non-Null Count  Dtype  \n",
      "---  ------               --------------  -----  \n",
      " 0   App                  8159 non-null   object \n",
      " 1   Category             8159 non-null   object \n",
      " 2   Rating               8159 non-null   float64\n",
      " 3   Reviews              8159 non-null   int32  \n",
      " 4   Size(M)              8159 non-null   float64\n",
      " 5   Free/Paid            8159 non-null   object \n",
      " 6   Price($)             8159 non-null   float64\n",
      " 7   Installs(over then)  8159 non-null   int64  \n",
      "dtypes: float64(3), int32(1), int64(1), object(3)\n",
      "memory usage: 541.8+ KB\n"
     ]
    }
   ],
   "source": [
    "df3.info()"
   ]
  },
  {
   "cell_type": "code",
   "execution_count": 50,
   "metadata": {},
   "outputs": [],
   "source": [
    "Rating_group=[]\n",
    "temp_rating = df3['Rating']\n",
    "for rate in temp_rating:\n",
    "    if rate <= 1:\n",
    "        Rating_group.append(1)\n",
    "    elif rate <= 2:\n",
    "        Rating_group.append(2)\n",
    "    elif rate <= 3:\n",
    "        Rating_group.append(3)\n",
    "    elif rate <= 4:\n",
    "        Rating_group.append(4)\n",
    "    elif rate <= 5:\n",
    "        Rating_group.append(5)\n",
    "df3['Rating_Group'] = Rating_group"
   ]
  },
  {
   "cell_type": "code",
   "execution_count": 51,
   "metadata": {},
   "outputs": [],
   "source": [
    "Price_Group=[]\n",
    "temp_price = df3['Price($)']\n",
    "for price in temp_price:\n",
    "    if price == 0:\n",
    "        Price_Group.append(0)\n",
    "    elif price <= 10:\n",
    "        Price_Group.append(10)\n",
    "    elif price <= 20:\n",
    "            Price_Group.append(20)\n",
    "    elif price <= 30:\n",
    "            Price_Group.append(30)\n",
    "    elif price <= 40:\n",
    "            Price_Group.append(40)\n",
    "    elif price <= 50:\n",
    "            Price_Group.append(50)\n",
    "df3['Price_Group'] = Price_Group"
   ]
  },
  {
   "cell_type": "code",
   "execution_count": 52,
   "metadata": {},
   "outputs": [],
   "source": [
    "Size_Group=[]\n",
    "temp_size = df3['Size(M)']\n",
    "for size in temp_size:\n",
    "    if size <= 10:\n",
    "        Size_Group.append(10)\n",
    "    elif size <= 20:\n",
    "        Size_Group.append(20)\n",
    "    elif size <= 30:\n",
    "        Size_Group.append(30)\n",
    "    elif size <= 40:\n",
    "        Size_Group.append(40)\n",
    "    elif size <= 50:\n",
    "        Size_Group.append(50)\n",
    "    elif size <= 60:\n",
    "        Size_Group.append(60)\n",
    "    elif size <= 70:\n",
    "        Size_Group.append(70)\n",
    "    elif size <= 80:\n",
    "        Size_Group.append(80)\n",
    "    elif size <= 90:\n",
    "        Size_Group.append(90)\n",
    "    elif size <= 100:\n",
    "        Size_Group.append(100)\n",
    "    #elif math.isnan(size):\n",
    "        #Size_Group.append(0)       \n",
    "df3['Size_Group'] = Size_Group"
   ]
  },
  {
   "cell_type": "code",
   "execution_count": 54,
   "metadata": {},
   "outputs": [
    {
     "data": {
      "text/html": [
       "<div>\n",
       "<style scoped>\n",
       "    .dataframe tbody tr th:only-of-type {\n",
       "        vertical-align: middle;\n",
       "    }\n",
       "\n",
       "    .dataframe tbody tr th {\n",
       "        vertical-align: top;\n",
       "    }\n",
       "\n",
       "    .dataframe thead th {\n",
       "        text-align: right;\n",
       "    }\n",
       "</style>\n",
       "<table border=\"1\" class=\"dataframe\">\n",
       "  <thead>\n",
       "    <tr style=\"text-align: right;\">\n",
       "      <th></th>\n",
       "      <th>App</th>\n",
       "      <th>Category</th>\n",
       "      <th>Rating</th>\n",
       "      <th>Reviews</th>\n",
       "      <th>Size(M)</th>\n",
       "      <th>Free/Paid</th>\n",
       "      <th>Price($)</th>\n",
       "      <th>Installs(over then)</th>\n",
       "      <th>Rating_Group</th>\n",
       "      <th>Price_Group</th>\n",
       "      <th>Size_Group</th>\n",
       "      <th>10_million_Installs_and_more</th>\n",
       "      <th>Between_4_to_5_rate</th>\n",
       "      <th>Successful_app</th>\n",
       "    </tr>\n",
       "  </thead>\n",
       "  <tbody>\n",
       "    <tr>\n",
       "      <th>0</th>\n",
       "      <td>Photo Editor &amp; Candy Camera &amp; Grid &amp; ScrapBook</td>\n",
       "      <td>ART_AND_DESIGN</td>\n",
       "      <td>4.1</td>\n",
       "      <td>159</td>\n",
       "      <td>19.0</td>\n",
       "      <td>Free</td>\n",
       "      <td>0.0</td>\n",
       "      <td>10000</td>\n",
       "      <td>5</td>\n",
       "      <td>0</td>\n",
       "      <td>20</td>\n",
       "      <td>False</td>\n",
       "      <td>True</td>\n",
       "      <td>False</td>\n",
       "    </tr>\n",
       "    <tr>\n",
       "      <th>1</th>\n",
       "      <td>Coloring book moana</td>\n",
       "      <td>ART_AND_DESIGN</td>\n",
       "      <td>3.9</td>\n",
       "      <td>967</td>\n",
       "      <td>14.0</td>\n",
       "      <td>Free</td>\n",
       "      <td>0.0</td>\n",
       "      <td>500000</td>\n",
       "      <td>4</td>\n",
       "      <td>0</td>\n",
       "      <td>20</td>\n",
       "      <td>False</td>\n",
       "      <td>False</td>\n",
       "      <td>False</td>\n",
       "    </tr>\n",
       "    <tr>\n",
       "      <th>2</th>\n",
       "      <td>U Launcher Lite – FREE Live Cool Themes, Hide ...</td>\n",
       "      <td>ART_AND_DESIGN</td>\n",
       "      <td>4.7</td>\n",
       "      <td>87510</td>\n",
       "      <td>8.7</td>\n",
       "      <td>Free</td>\n",
       "      <td>0.0</td>\n",
       "      <td>5000000</td>\n",
       "      <td>5</td>\n",
       "      <td>0</td>\n",
       "      <td>10</td>\n",
       "      <td>False</td>\n",
       "      <td>True</td>\n",
       "      <td>False</td>\n",
       "    </tr>\n",
       "    <tr>\n",
       "      <th>3</th>\n",
       "      <td>Sketch - Draw &amp; Paint</td>\n",
       "      <td>ART_AND_DESIGN</td>\n",
       "      <td>4.5</td>\n",
       "      <td>215644</td>\n",
       "      <td>25.0</td>\n",
       "      <td>Free</td>\n",
       "      <td>0.0</td>\n",
       "      <td>50000000</td>\n",
       "      <td>5</td>\n",
       "      <td>0</td>\n",
       "      <td>30</td>\n",
       "      <td>True</td>\n",
       "      <td>True</td>\n",
       "      <td>True</td>\n",
       "    </tr>\n",
       "    <tr>\n",
       "      <th>4</th>\n",
       "      <td>Pixel Draw - Number Art Coloring Book</td>\n",
       "      <td>ART_AND_DESIGN</td>\n",
       "      <td>4.3</td>\n",
       "      <td>967</td>\n",
       "      <td>2.8</td>\n",
       "      <td>Free</td>\n",
       "      <td>0.0</td>\n",
       "      <td>100000</td>\n",
       "      <td>5</td>\n",
       "      <td>0</td>\n",
       "      <td>10</td>\n",
       "      <td>False</td>\n",
       "      <td>True</td>\n",
       "      <td>False</td>\n",
       "    </tr>\n",
       "  </tbody>\n",
       "</table>\n",
       "</div>"
      ],
      "text/plain": [
       "                                                 App        Category  Rating  \\\n",
       "0     Photo Editor & Candy Camera & Grid & ScrapBook  ART_AND_DESIGN     4.1   \n",
       "1                                Coloring book moana  ART_AND_DESIGN     3.9   \n",
       "2  U Launcher Lite – FREE Live Cool Themes, Hide ...  ART_AND_DESIGN     4.7   \n",
       "3                              Sketch - Draw & Paint  ART_AND_DESIGN     4.5   \n",
       "4              Pixel Draw - Number Art Coloring Book  ART_AND_DESIGN     4.3   \n",
       "\n",
       "   Reviews  Size(M) Free/Paid  Price($)  Installs(over then)  Rating_Group  \\\n",
       "0      159     19.0      Free       0.0                10000             5   \n",
       "1      967     14.0      Free       0.0               500000             4   \n",
       "2    87510      8.7      Free       0.0              5000000             5   \n",
       "3   215644     25.0      Free       0.0             50000000             5   \n",
       "4      967      2.8      Free       0.0               100000             5   \n",
       "\n",
       "   Price_Group  Size_Group  10_million_Installs_and_more  Between_4_to_5_rate  \\\n",
       "0            0          20                         False                 True   \n",
       "1            0          20                         False                False   \n",
       "2            0          10                         False                 True   \n",
       "3            0          30                          True                 True   \n",
       "4            0          10                         False                 True   \n",
       "\n",
       "   Successful_app  \n",
       "0           False  \n",
       "1           False  \n",
       "2           False  \n",
       "3            True  \n",
       "4           False  "
      ]
     },
     "execution_count": 54,
     "metadata": {},
     "output_type": "execute_result"
    }
   ],
   "source": [
    "df3['10_million_Installs_and_more'] = df3['Installs(over then)']>=10000000\n",
    "df3['Between_4_to_5_rate'] = df3['Rating']>=4\n",
    "df3['Successful_app'] = (df3['10_million_Installs_and_more'] == True) & (df3['Between_4_to_5_rate'] == True)\n",
    "df3.head()"
   ]
  },
  {
   "cell_type": "code",
   "execution_count": 55,
   "metadata": {},
   "outputs": [],
   "source": [
    "ct = pd.crosstab(df3['Category'],df3['Free/Paid'])\n",
    "ct1 = pd.crosstab(df3['Category'],df3['Free/Paid'],normalize='index')\n",
    "ct2 = pd.crosstab(df3['Installs(over then)'],df3['Rating_Group'])\n",
    "ct3 = pd.crosstab(df3['Installs(over then)'],df3['Rating_Group'],normalize='index')\n",
    "ct8 = pd.crosstab(df3['Price_Group'],df3['Rating_Group'])\n",
    "ct9 = pd.crosstab(df3['Price_Group'],df3['Rating_Group'],normalize='index')\n",
    "ct10 = pd.crosstab(df3['Installs(over then)'],df3['Free/Paid'])\n",
    "ct11 = pd.crosstab(df3['Installs(over then)'],df3['Free/Paid'],normalize='index')\n",
    "ct12 = pd.crosstab(df3['Size_Group'],df3['Rating_Group'])\n",
    "ct13 = pd.crosstab(df3['Size_Group'],df3['Rating_Group'],normalize='index')\n",
    "ct16 = pd.crosstab(df3['Category'],df3['10_million_Installs_and_more'])\n",
    "ct17 = pd.crosstab(df3['Category'],df3['10_million_Installs_and_more'],normalize='index')\n",
    "ct18 = pd.crosstab(df3['Category'],df3['Between_4_to_5_rate'])\n",
    "ct19 = pd.crosstab(df3['Category'],df3['Between_4_to_5_rate'],normalize='index')\n",
    "ct20 = pd.crosstab(df3['Category'],df3['Successful_app'])\n",
    "ct21 = pd.crosstab(df3['Category'],df3['Successful_app'],normalize='index')\n",
    "ct22 = pd.crosstab(df3['Size_Group'],df3['Successful_app'])\n",
    "ct23 = pd.crosstab(df3['Size_Group'],df3['Successful_app'],normalize='index')\n",
    "ct24 = pd.crosstab(df3['Price_Group'],df3['Successful_app'])\n",
    "ct25 = pd.crosstab(df3['Price_Group'],df3['Successful_app'],normalize='index')"
   ]
  },
  {
   "cell_type": "code",
   "execution_count": 56,
   "metadata": {},
   "outputs": [
    {
     "data": {
      "text/html": [
       "<div>\n",
       "<style scoped>\n",
       "    .dataframe tbody tr th:only-of-type {\n",
       "        vertical-align: middle;\n",
       "    }\n",
       "\n",
       "    .dataframe tbody tr th {\n",
       "        vertical-align: top;\n",
       "    }\n",
       "\n",
       "    .dataframe thead th {\n",
       "        text-align: right;\n",
       "    }\n",
       "</style>\n",
       "<table border=\"1\" class=\"dataframe\">\n",
       "  <thead>\n",
       "    <tr style=\"text-align: right;\">\n",
       "      <th></th>\n",
       "      <th>Rating</th>\n",
       "      <th>Reviews</th>\n",
       "      <th>Size(M)</th>\n",
       "      <th>Price($)</th>\n",
       "      <th>Installs(over then)</th>\n",
       "      <th>Rating_Group</th>\n",
       "      <th>Price_Group</th>\n",
       "      <th>Size_Group</th>\n",
       "      <th>10_million_Installs_and_more</th>\n",
       "      <th>Between_4_to_5_rate</th>\n",
       "      <th>Successful_app</th>\n",
       "    </tr>\n",
       "  </thead>\n",
       "  <tbody>\n",
       "    <tr>\n",
       "      <th>Rating</th>\n",
       "      <td>1.000000</td>\n",
       "      <td>0.073843</td>\n",
       "      <td>0.153972</td>\n",
       "      <td>-0.018072</td>\n",
       "      <td>0.081111</td>\n",
       "      <td>0.984028</td>\n",
       "      <td>-0.016185</td>\n",
       "      <td>0.153176</td>\n",
       "      <td>0.178955</td>\n",
       "      <td>0.752380</td>\n",
       "      <td>0.181818</td>\n",
       "    </tr>\n",
       "    <tr>\n",
       "      <th>Reviews</th>\n",
       "      <td>0.073843</td>\n",
       "      <td>1.000000</td>\n",
       "      <td>0.188184</td>\n",
       "      <td>-0.020739</td>\n",
       "      <td>0.574404</td>\n",
       "      <td>0.079677</td>\n",
       "      <td>-0.031287</td>\n",
       "      <td>0.187217</td>\n",
       "      <td>0.326208</td>\n",
       "      <td>0.090267</td>\n",
       "      <td>0.339227</td>\n",
       "    </tr>\n",
       "    <tr>\n",
       "      <th>Size(M)</th>\n",
       "      <td>0.153972</td>\n",
       "      <td>0.188184</td>\n",
       "      <td>1.000000</td>\n",
       "      <td>0.002760</td>\n",
       "      <td>0.141028</td>\n",
       "      <td>0.161777</td>\n",
       "      <td>0.001962</td>\n",
       "      <td>0.992330</td>\n",
       "      <td>0.231638</td>\n",
       "      <td>0.138010</td>\n",
       "      <td>0.239052</td>\n",
       "    </tr>\n",
       "    <tr>\n",
       "      <th>Price($)</th>\n",
       "      <td>-0.018072</td>\n",
       "      <td>-0.020739</td>\n",
       "      <td>0.002760</td>\n",
       "      <td>1.000000</td>\n",
       "      <td>-0.026343</td>\n",
       "      <td>-0.017434</td>\n",
       "      <td>0.841652</td>\n",
       "      <td>0.004765</td>\n",
       "      <td>-0.059516</td>\n",
       "      <td>-0.004558</td>\n",
       "      <td>-0.056495</td>\n",
       "    </tr>\n",
       "    <tr>\n",
       "      <th>Installs(over then)</th>\n",
       "      <td>0.081111</td>\n",
       "      <td>0.574404</td>\n",
       "      <td>0.141028</td>\n",
       "      <td>-0.026343</td>\n",
       "      <td>1.000000</td>\n",
       "      <td>0.090101</td>\n",
       "      <td>-0.039798</td>\n",
       "      <td>0.141311</td>\n",
       "      <td>0.389367</td>\n",
       "      <td>0.090557</td>\n",
       "      <td>0.376180</td>\n",
       "    </tr>\n",
       "    <tr>\n",
       "      <th>Rating_Group</th>\n",
       "      <td>0.984028</td>\n",
       "      <td>0.079677</td>\n",
       "      <td>0.161777</td>\n",
       "      <td>-0.017434</td>\n",
       "      <td>0.090101</td>\n",
       "      <td>1.000000</td>\n",
       "      <td>-0.016130</td>\n",
       "      <td>0.160455</td>\n",
       "      <td>0.197383</td>\n",
       "      <td>0.793406</td>\n",
       "      <td>0.206550</td>\n",
       "    </tr>\n",
       "    <tr>\n",
       "      <th>Price_Group</th>\n",
       "      <td>-0.016185</td>\n",
       "      <td>-0.031287</td>\n",
       "      <td>0.001962</td>\n",
       "      <td>0.841652</td>\n",
       "      <td>-0.039798</td>\n",
       "      <td>-0.016130</td>\n",
       "      <td>1.000000</td>\n",
       "      <td>0.005497</td>\n",
       "      <td>-0.089469</td>\n",
       "      <td>0.005304</td>\n",
       "      <td>-0.084840</td>\n",
       "    </tr>\n",
       "    <tr>\n",
       "      <th>Size_Group</th>\n",
       "      <td>0.153176</td>\n",
       "      <td>0.187217</td>\n",
       "      <td>0.992330</td>\n",
       "      <td>0.004765</td>\n",
       "      <td>0.141311</td>\n",
       "      <td>0.160455</td>\n",
       "      <td>0.005497</td>\n",
       "      <td>1.000000</td>\n",
       "      <td>0.228607</td>\n",
       "      <td>0.135618</td>\n",
       "      <td>0.235639</td>\n",
       "    </tr>\n",
       "    <tr>\n",
       "      <th>10_million_Installs_and_more</th>\n",
       "      <td>0.178955</td>\n",
       "      <td>0.326208</td>\n",
       "      <td>0.231638</td>\n",
       "      <td>-0.059516</td>\n",
       "      <td>0.389367</td>\n",
       "      <td>0.197383</td>\n",
       "      <td>-0.089469</td>\n",
       "      <td>0.228607</td>\n",
       "      <td>1.000000</td>\n",
       "      <td>0.200420</td>\n",
       "      <td>0.949544</td>\n",
       "    </tr>\n",
       "    <tr>\n",
       "      <th>Between_4_to_5_rate</th>\n",
       "      <td>0.752380</td>\n",
       "      <td>0.090267</td>\n",
       "      <td>0.138010</td>\n",
       "      <td>-0.004558</td>\n",
       "      <td>0.090557</td>\n",
       "      <td>0.793406</td>\n",
       "      <td>0.005304</td>\n",
       "      <td>0.135618</td>\n",
       "      <td>0.200420</td>\n",
       "      <td>1.000000</td>\n",
       "      <td>0.251551</td>\n",
       "    </tr>\n",
       "    <tr>\n",
       "      <th>Successful_app</th>\n",
       "      <td>0.181818</td>\n",
       "      <td>0.339227</td>\n",
       "      <td>0.239052</td>\n",
       "      <td>-0.056495</td>\n",
       "      <td>0.376180</td>\n",
       "      <td>0.206550</td>\n",
       "      <td>-0.084840</td>\n",
       "      <td>0.235639</td>\n",
       "      <td>0.949544</td>\n",
       "      <td>0.251551</td>\n",
       "      <td>1.000000</td>\n",
       "    </tr>\n",
       "  </tbody>\n",
       "</table>\n",
       "</div>"
      ],
      "text/plain": [
       "                                Rating   Reviews   Size(M)  Price($)  \\\n",
       "Rating                        1.000000  0.073843  0.153972 -0.018072   \n",
       "Reviews                       0.073843  1.000000  0.188184 -0.020739   \n",
       "Size(M)                       0.153972  0.188184  1.000000  0.002760   \n",
       "Price($)                     -0.018072 -0.020739  0.002760  1.000000   \n",
       "Installs(over then)           0.081111  0.574404  0.141028 -0.026343   \n",
       "Rating_Group                  0.984028  0.079677  0.161777 -0.017434   \n",
       "Price_Group                  -0.016185 -0.031287  0.001962  0.841652   \n",
       "Size_Group                    0.153176  0.187217  0.992330  0.004765   \n",
       "10_million_Installs_and_more  0.178955  0.326208  0.231638 -0.059516   \n",
       "Between_4_to_5_rate           0.752380  0.090267  0.138010 -0.004558   \n",
       "Successful_app                0.181818  0.339227  0.239052 -0.056495   \n",
       "\n",
       "                              Installs(over then)  Rating_Group  Price_Group  \\\n",
       "Rating                                   0.081111      0.984028    -0.016185   \n",
       "Reviews                                  0.574404      0.079677    -0.031287   \n",
       "Size(M)                                  0.141028      0.161777     0.001962   \n",
       "Price($)                                -0.026343     -0.017434     0.841652   \n",
       "Installs(over then)                      1.000000      0.090101    -0.039798   \n",
       "Rating_Group                             0.090101      1.000000    -0.016130   \n",
       "Price_Group                             -0.039798     -0.016130     1.000000   \n",
       "Size_Group                               0.141311      0.160455     0.005497   \n",
       "10_million_Installs_and_more             0.389367      0.197383    -0.089469   \n",
       "Between_4_to_5_rate                      0.090557      0.793406     0.005304   \n",
       "Successful_app                           0.376180      0.206550    -0.084840   \n",
       "\n",
       "                              Size_Group  10_million_Installs_and_more  \\\n",
       "Rating                          0.153176                      0.178955   \n",
       "Reviews                         0.187217                      0.326208   \n",
       "Size(M)                         0.992330                      0.231638   \n",
       "Price($)                        0.004765                     -0.059516   \n",
       "Installs(over then)             0.141311                      0.389367   \n",
       "Rating_Group                    0.160455                      0.197383   \n",
       "Price_Group                     0.005497                     -0.089469   \n",
       "Size_Group                      1.000000                      0.228607   \n",
       "10_million_Installs_and_more    0.228607                      1.000000   \n",
       "Between_4_to_5_rate             0.135618                      0.200420   \n",
       "Successful_app                  0.235639                      0.949544   \n",
       "\n",
       "                              Between_4_to_5_rate  Successful_app  \n",
       "Rating                                   0.752380        0.181818  \n",
       "Reviews                                  0.090267        0.339227  \n",
       "Size(M)                                  0.138010        0.239052  \n",
       "Price($)                                -0.004558       -0.056495  \n",
       "Installs(over then)                      0.090557        0.376180  \n",
       "Rating_Group                             0.793406        0.206550  \n",
       "Price_Group                              0.005304       -0.084840  \n",
       "Size_Group                               0.135618        0.235639  \n",
       "10_million_Installs_and_more             0.200420        0.949544  \n",
       "Between_4_to_5_rate                      1.000000        0.251551  \n",
       "Successful_app                           0.251551        1.000000  "
      ]
     },
     "execution_count": 56,
     "metadata": {},
     "output_type": "execute_result"
    }
   ],
   "source": [
    "df3.corr()"
   ]
  },
  {
   "cell_type": "code",
   "execution_count": 57,
   "metadata": {},
   "outputs": [
    {
     "data": {
      "text/plain": [
       "Text(0.5, 1.0, 'Number of Categories')"
      ]
     },
     "execution_count": 57,
     "metadata": {},
     "output_type": "execute_result"
    },
    {
     "data": {
      "image/png": "[encoded data removed]",
      "text/plain": [
       "<Figure size 864x864 with 1 Axes>"
      ]
     },
     "metadata": {},
     "output_type": "display_data"
    }
   ],
   "source": [
    "fig1 = plt.figure(figsize=(12,12))\n",
    "df3['Category'].value_counts().plot(kind='pie')\n",
    "plt.title('Number of Categories')"
   ]
  },
  {
   "cell_type": "code",
   "execution_count": 58,
   "metadata": {},
   "outputs": [
    {
     "data": {
      "text/plain": [
       "Text(0.5, 1.0, 'Rating divide')"
      ]
     },
     "execution_count": 58,
     "metadata": {},
     "output_type": "execute_result"
    },
    {
     "data": {
      "image/png": "[encoded data removed]",
      "text/plain": [
       "<Figure size 576x576 with 1 Axes>"
      ]
     },
     "metadata": {},
     "output_type": "display_data"
    }
   ],
   "source": [
    "fig2 = plt.figure(figsize=(8,8))\n",
    "df3['Rating_Group'].value_counts().plot(kind='pie')\n",
    "plt.title('Rating divide')"
   ]
  },
  {
   "cell_type": "code",
   "execution_count": 59,
   "metadata": {
    "scrolled": false
   },
   "outputs": [
    {
     "data": {
      "text/plain": [
       "Text(0, 0.5, 'count Free/Paid')"
      ]
     },
     "execution_count": 59,
     "metadata": {},
     "output_type": "execute_result"
    },
    {
     "data": {
      "image/png": "[encoded data removed]",
      "text/plain": [
       "<Figure size 1080x432 with 1 Axes>"
      ]
     },
     "metadata": {
      "needs_background": "light"
     },
     "output_type": "display_data"
    }
   ],
   "source": [
    "ct1.plot(kind='bar', figsize=(15,6))\n",
    "plt.title('Category vs Free/Paid',fontsize=30)\n",
    "plt.xlabel('Category')\n",
    "plt.ylabel('count Free/Paid')"
   ]
  },
  {
   "cell_type": "code",
   "execution_count": 60,
   "metadata": {},
   "outputs": [
    {
     "data": {
      "text/plain": [
       "Text(0, 0.5, ' 10_million_Installs_and_more/Paid')"
      ]
     },
     "execution_count": 60,
     "metadata": {},
     "output_type": "execute_result"
    },
    {
     "data": {
      "image/png": "[encoded data removed]",
      "text/plain": [
       "<Figure size 1080x432 with 1 Axes>"
      ]
     },
     "metadata": {
      "needs_background": "light"
     },
     "output_type": "display_data"
    }
   ],
   "source": [
    "ct17.plot(kind='bar', figsize=(15,6))\n",
    "plt.title('Category vs 10_million_Installs_and_more',fontsize=30)\n",
    "plt.xlabel('Category')\n",
    "plt.ylabel(' 10_million_Installs_and_more/Paid')"
   ]
  },
  {
   "cell_type": "code",
   "execution_count": 61,
   "metadata": {},
   "outputs": [
    {
     "data": {
      "text/plain": [
       "Text(0, 0.5, ' Between_4_to_5_rate/Paid')"
      ]
     },
     "execution_count": 61,
     "metadata": {},
     "output_type": "execute_result"
    },
    {
     "data": {
      "image/png": "[encoded data removed]",
      "text/plain": [
       "<Figure size 1080x432 with 1 Axes>"
      ]
     },
     "metadata": {
      "needs_background": "light"
     },
     "output_type": "display_data"
    }
   ],
   "source": [
    "ct19.plot(kind='bar', figsize=(15,6))\n",
    "plt.title('Category vs Between_4_to_5_rate',fontsize=30)\n",
    "plt.xlabel('Category')\n",
    "plt.ylabel(' Between_4_to_5_rate/Paid')\n"
   ]
  },
  {
   "cell_type": "code",
   "execution_count": 62,
   "metadata": {
    "scrolled": false
   },
   "outputs": [
    {
     "data": {
      "text/plain": [
       "Text(0, 0.5, ' Successful_app')"
      ]
     },
     "execution_count": 62,
     "metadata": {},
     "output_type": "execute_result"
    },
    {
     "data": {
      "image/png": "[encoded data removed]",
      "text/plain": [
       "<Figure size 1080x432 with 1 Axes>"
      ]
     },
     "metadata": {
      "needs_background": "light"
     },
     "output_type": "display_data"
    }
   ],
   "source": [
    "ct21.plot(kind='bar', figsize=(15,6))\n",
    "plt.title('Category vs Successful_app',fontsize=30)\n",
    "plt.xlabel('Category')\n",
    "plt.ylabel(' Successful_app')"
   ]
  },
  {
   "cell_type": "code",
   "execution_count": 63,
   "metadata": {
    "scrolled": false
   },
   "outputs": [
    {
     "data": {
      "text/html": [
       "<div>\n",
       "<style scoped>\n",
       "    .dataframe tbody tr th:only-of-type {\n",
       "        vertical-align: middle;\n",
       "    }\n",
       "\n",
       "    .dataframe tbody tr th {\n",
       "        vertical-align: top;\n",
       "    }\n",
       "\n",
       "    .dataframe thead th {\n",
       "        text-align: right;\n",
       "    }\n",
       "</style>\n",
       "<table border=\"1\" class=\"dataframe\">\n",
       "  <thead>\n",
       "    <tr style=\"text-align: right;\">\n",
       "      <th></th>\n",
       "      <th>Categories</th>\n",
       "      <th>Success Percent(%)</th>\n",
       "    </tr>\n",
       "  </thead>\n",
       "  <tbody>\n",
       "    <tr>\n",
       "      <th>17</th>\n",
       "      <td>GAME</td>\n",
       "      <td>28.013777</td>\n",
       "    </tr>\n",
       "    <tr>\n",
       "      <th>22</th>\n",
       "      <td>PHOTOGRAPHY</td>\n",
       "      <td>22.374429</td>\n",
       "    </tr>\n",
       "    <tr>\n",
       "      <th>9</th>\n",
       "      <td>ENTERTAINMENT</td>\n",
       "      <td>21.875000</td>\n",
       "    </tr>\n",
       "    <tr>\n",
       "      <th>21</th>\n",
       "      <td>SHOPPING</td>\n",
       "      <td>19.254658</td>\n",
       "    </tr>\n",
       "    <tr>\n",
       "      <th>30</th>\n",
       "      <td>VIDEO_PLAYERS</td>\n",
       "      <td>16.935484</td>\n",
       "    </tr>\n",
       "    <tr>\n",
       "      <th>6</th>\n",
       "      <td>COMMUNICATION</td>\n",
       "      <td>11.627907</td>\n",
       "    </tr>\n",
       "    <tr>\n",
       "      <th>23</th>\n",
       "      <td>SPORTS</td>\n",
       "      <td>10.247350</td>\n",
       "    </tr>\n",
       "    <tr>\n",
       "      <th>20</th>\n",
       "      <td>SOCIAL</td>\n",
       "      <td>9.677419</td>\n",
       "    </tr>\n",
       "    <tr>\n",
       "      <th>25</th>\n",
       "      <td>TOOLS</td>\n",
       "      <td>9.355828</td>\n",
       "    </tr>\n",
       "    <tr>\n",
       "      <th>29</th>\n",
       "      <td>WEATHER</td>\n",
       "      <td>9.090909</td>\n",
       "    </tr>\n",
       "    <tr>\n",
       "      <th>18</th>\n",
       "      <td>FAMILY</td>\n",
       "      <td>8.997135</td>\n",
       "    </tr>\n",
       "    <tr>\n",
       "      <th>26</th>\n",
       "      <td>PERSONALIZATION</td>\n",
       "      <td>8.923077</td>\n",
       "    </tr>\n",
       "    <tr>\n",
       "      <th>27</th>\n",
       "      <td>PRODUCTIVITY</td>\n",
       "      <td>8.518519</td>\n",
       "    </tr>\n",
       "    <tr>\n",
       "      <th>8</th>\n",
       "      <td>EDUCATION</td>\n",
       "      <td>8.045977</td>\n",
       "    </tr>\n",
       "    <tr>\n",
       "      <th>12</th>\n",
       "      <td>FOOD_AND_DRINK</td>\n",
       "      <td>7.954545</td>\n",
       "    </tr>\n",
       "    <tr>\n",
       "      <th>32</th>\n",
       "      <td>MAPS_AND_NAVIGATION</td>\n",
       "      <td>6.730769</td>\n",
       "    </tr>\n",
       "    <tr>\n",
       "      <th>0</th>\n",
       "      <td>ART_AND_DESIGN</td>\n",
       "      <td>6.451613</td>\n",
       "    </tr>\n",
       "    <tr>\n",
       "      <th>24</th>\n",
       "      <td>TRAVEL_AND_LOCAL</td>\n",
       "      <td>6.432749</td>\n",
       "    </tr>\n",
       "    <tr>\n",
       "      <th>31</th>\n",
       "      <td>NEWS_AND_MAGAZINES</td>\n",
       "      <td>6.030151</td>\n",
       "    </tr>\n",
       "    <tr>\n",
       "      <th>13</th>\n",
       "      <td>HEALTH_AND_FITNESS</td>\n",
       "      <td>5.752212</td>\n",
       "    </tr>\n",
       "    <tr>\n",
       "      <th>15</th>\n",
       "      <td>LIBRARIES_AND_DEMO</td>\n",
       "      <td>3.921569</td>\n",
       "    </tr>\n",
       "    <tr>\n",
       "      <th>11</th>\n",
       "      <td>FINANCE</td>\n",
       "      <td>3.484321</td>\n",
       "    </tr>\n",
       "    <tr>\n",
       "      <th>16</th>\n",
       "      <td>LIFESTYLE</td>\n",
       "      <td>3.470032</td>\n",
       "    </tr>\n",
       "    <tr>\n",
       "      <th>14</th>\n",
       "      <td>HOUSE_AND_HOME</td>\n",
       "      <td>3.278689</td>\n",
       "    </tr>\n",
       "    <tr>\n",
       "      <th>3</th>\n",
       "      <td>BOOKS_AND_REFERENCE</td>\n",
       "      <td>3.225806</td>\n",
       "    </tr>\n",
       "    <tr>\n",
       "      <th>1</th>\n",
       "      <td>AUTO_AND_VEHICLES</td>\n",
       "      <td>2.739726</td>\n",
       "    </tr>\n",
       "    <tr>\n",
       "      <th>4</th>\n",
       "      <td>BUSINESS</td>\n",
       "      <td>2.472527</td>\n",
       "    </tr>\n",
       "    <tr>\n",
       "      <th>7</th>\n",
       "      <td>DATING</td>\n",
       "      <td>1.898734</td>\n",
       "    </tr>\n",
       "    <tr>\n",
       "      <th>28</th>\n",
       "      <td>PARENTING</td>\n",
       "      <td>1.851852</td>\n",
       "    </tr>\n",
       "    <tr>\n",
       "      <th>19</th>\n",
       "      <td>MEDICAL</td>\n",
       "      <td>0.000000</td>\n",
       "    </tr>\n",
       "    <tr>\n",
       "      <th>10</th>\n",
       "      <td>EVENTS</td>\n",
       "      <td>0.000000</td>\n",
       "    </tr>\n",
       "    <tr>\n",
       "      <th>5</th>\n",
       "      <td>COMICS</td>\n",
       "      <td>0.000000</td>\n",
       "    </tr>\n",
       "    <tr>\n",
       "      <th>2</th>\n",
       "      <td>BEAUTY</td>\n",
       "      <td>0.000000</td>\n",
       "    </tr>\n",
       "  </tbody>\n",
       "</table>\n",
       "</div>"
      ],
      "text/plain": [
       "             Categories  Success Percent(%)\n",
       "17                 GAME           28.013777\n",
       "22          PHOTOGRAPHY           22.374429\n",
       "9         ENTERTAINMENT           21.875000\n",
       "21             SHOPPING           19.254658\n",
       "30        VIDEO_PLAYERS           16.935484\n",
       "6         COMMUNICATION           11.627907\n",
       "23               SPORTS           10.247350\n",
       "20               SOCIAL            9.677419\n",
       "25                TOOLS            9.355828\n",
       "29              WEATHER            9.090909\n",
       "18               FAMILY            8.997135\n",
       "26      PERSONALIZATION            8.923077\n",
       "27         PRODUCTIVITY            8.518519\n",
       "8             EDUCATION            8.045977\n",
       "12       FOOD_AND_DRINK            7.954545\n",
       "32  MAPS_AND_NAVIGATION            6.730769\n",
       "0        ART_AND_DESIGN            6.451613\n",
       "24     TRAVEL_AND_LOCAL            6.432749\n",
       "31   NEWS_AND_MAGAZINES            6.030151\n",
       "13   HEALTH_AND_FITNESS            5.752212\n",
       "15   LIBRARIES_AND_DEMO            3.921569\n",
       "11              FINANCE            3.484321\n",
       "16            LIFESTYLE            3.470032\n",
       "14       HOUSE_AND_HOME            3.278689\n",
       "3   BOOKS_AND_REFERENCE            3.225806\n",
       "1     AUTO_AND_VEHICLES            2.739726\n",
       "4              BUSINESS            2.472527\n",
       "7                DATING            1.898734\n",
       "28            PARENTING            1.851852\n",
       "19              MEDICAL            0.000000\n",
       "10               EVENTS            0.000000\n",
       "5                COMICS            0.000000\n",
       "2                BEAUTY            0.000000"
      ]
     },
     "execution_count": 63,
     "metadata": {},
     "output_type": "execute_result"
    }
   ],
   "source": [
    "categories_list = df3['Category'].unique()\n",
    "Percent_list=[]\n",
    "for category in categories_list:\n",
    "    num = len(df3[(df3['Successful_app'] == True) & (df3['Category'] == category)])/len(df3[df3['Category'] == category])*100\n",
    "    Percent_list.append(num)\n",
    "successful_df = pd.DataFrame({'Categories': categories_list,'Success Percent(%)': Percent_list}) \n",
    "successful_df.sort_values(\"Success Percent(%)\",ascending=False, inplace=True)\n",
    "successful_df"
   ]
  },
  {
   "cell_type": "code",
   "execution_count": 64,
   "metadata": {
    "scrolled": false
   },
   "outputs": [
    {
     "data": {
      "text/plain": [
       "Text(0, 0.5, ' Successful_app')"
      ]
     },
     "execution_count": 64,
     "metadata": {},
     "output_type": "execute_result"
    },
    {
     "data": {
      "image/png": "[encoded data removed]",
      "text/plain": [
       "<Figure size 1080x432 with 1 Axes>"
      ]
     },
     "metadata": {
      "needs_background": "light"
     },
     "output_type": "display_data"
    }
   ],
   "source": [
    "ct23.plot(kind='bar', figsize=(15,6))\n",
    "plt.title('Size(M) vs Successful_app',fontsize=30)\n",
    "plt.xlabel('Szie(M)')\n",
    "plt.ylabel(' Successful_app')"
   ]
  },
  {
   "cell_type": "code",
   "execution_count": 65,
   "metadata": {},
   "outputs": [
    {
     "data": {
      "text/plain": [
       "Text(0, 0.5, 'Successful_app')"
      ]
     },
     "execution_count": 65,
     "metadata": {},
     "output_type": "execute_result"
    },
    {
     "data": {
      "image/png": "[encoded data removed]",
      "text/plain": [
       "<Figure size 1080x432 with 1 Axes>"
      ]
     },
     "metadata": {
      "needs_background": "light"
     },
     "output_type": "display_data"
    }
   ],
   "source": [
    "ct25.plot(kind='bar', figsize=(15,6))\n",
    "plt.title('Price vs Successful_app',fontsize=30)\n",
    "plt.xlabel('Price')\n",
    "plt.ylabel('Successful_app')"
   ]
  },
  {
   "cell_type": "code",
   "execution_count": 66,
   "metadata": {
    "scrolled": false
   },
   "outputs": [
    {
     "name": "stdout",
     "output_type": "stream",
     "text": [
      "For any kind of app, you have 9.96% to get successful app\n"
     ]
    },
    {
     "data": {
      "image/png": "[encoded data removed]",
      "text/plain": [
       "<Figure size 360x360 with 1 Axes>"
      ]
     },
     "metadata": {},
     "output_type": "display_data"
    }
   ],
   "source": [
    "fig5 = plt.figure(figsize=(5,5))\n",
    "df3['Successful_app'].value_counts().plot(kind='pie')\n",
    "plt.title('Successful_app vs Unsuccessful_app')\n",
    "num =len(df3[df3['Successful_app']==True])/len(df3['Successful_app'])*100\n",
    "print ('For any kind of app, you have %.2f'%(num)+'% to get successful app')"
   ]
  },
  {
   "cell_type": "code",
   "execution_count": 68,
   "metadata": {
    "scrolled": false
   },
   "outputs": [
    {
     "data": {
      "text/plain": [
       "Text(0, 0.5, 'Rating')"
      ]
     },
     "execution_count": 68,
     "metadata": {},
     "output_type": "execute_result"
    },
    {
     "data": {
      "image/png": "[encoded data removed]",
      "text/plain": [
       "<Figure size 1080x432 with 1 Axes>"
      ]
     },
     "metadata": {
      "needs_background": "light"
     },
     "output_type": "display_data"
    }
   ],
   "source": [
    "ct3.plot(kind='bar', figsize=(15,6))\n",
    "plt.title('Installs vs Rating',fontsize=30)\n",
    "plt.xlabel('Installs')\n",
    "plt.ylabel('Rating')"
   ]
  },
  {
   "cell_type": "code",
   "execution_count": 69,
   "metadata": {},
   "outputs": [
    {
     "data": {
      "text/plain": [
       "(4562.14910315717,\n",
       " 0.0,\n",
       " 76,\n",
       " array([[1.66319402e+00, 5.76050987e-02, 3.21117784e-01, 2.11913225e+00,\n",
       "         5.83895085e+00],\n",
       "        [9.81284471e+00, 3.39870082e-01, 1.89459493e+00, 1.25028803e+01,\n",
       "         3.44498100e+01],\n",
       "        [1.26402745e+01, 4.37798750e-01, 2.44049516e+00, 1.61054051e+01,\n",
       "         4.43760265e+01],\n",
       "        [5.97086653e+01, 2.06802304e+00, 1.15281284e+01, 7.60768477e+01,\n",
       "         2.09618336e+02],\n",
       "        [3.16006864e+01, 1.09449687e+00, 6.10123790e+00, 4.02635127e+01,\n",
       "         1.10940066e+02],\n",
       "        [1.10436083e+02, 3.82497855e+00, 2.13222209e+01, 1.40710381e+02,\n",
       "         3.87706337e+02],\n",
       "        [5.18916534e+01, 1.79727908e+00, 1.00188749e+01, 6.61169261e+01,\n",
       "         1.82175267e+02],\n",
       "        [1.33055522e+02, 4.60840789e+00, 2.56894227e+01, 1.69530580e+02,\n",
       "         4.67116068e+02],\n",
       "        [6.76919966e+01, 2.34452752e+00, 1.30694938e+01, 8.62486824e+01,\n",
       "         2.37645300e+02],\n",
       "        [1.54178086e+02, 5.33999265e+00, 2.97676186e+01, 1.96443559e+02,\n",
       "         5.41270744e+02],\n",
       "        [6.86899130e+01, 2.37909057e+00, 1.32621645e+01, 8.75201618e+01,\n",
       "         2.41148670e+02],\n",
       "        [1.61496139e+02, 5.59345508e+00, 3.11805368e+01, 2.05767741e+02,\n",
       "         5.66962128e+02],\n",
       "        [7.61742861e+01, 2.63831352e+00, 1.47071945e+01, 9.70562569e+01,\n",
       "         2.67423949e+02],\n",
       "        [1.93762103e+02, 6.71099399e+00, 3.74102218e+01, 2.46878907e+02,\n",
       "         6.80237774e+02],\n",
       "        [7.58416473e+01, 2.62679250e+00, 1.46429710e+01, 9.66324304e+01,\n",
       "         2.66256159e+02],\n",
       "        [1.09105528e+02, 3.77889447e+00, 2.10653266e+01, 1.39015075e+02,\n",
       "         3.83035176e+02],\n",
       "        [1.92930506e+01, 6.68219145e-01, 3.72496629e+00, 2.45819341e+01,\n",
       "         6.77318299e+01],\n",
       "        [1.79624954e+01, 6.22135066e-01, 3.46807207e+00, 2.28866283e+01,\n",
       "         6.30606692e+01],\n",
       "        [1.66319402e+00, 5.76050987e-02, 3.21117784e-01, 2.11913225e+00,\n",
       "         5.83895085e+00],\n",
       "        [3.32638804e-01, 1.15210197e-02, 6.42235568e-02, 4.23826449e-01,\n",
       "         1.16779017e+00]]))"
      ]
     },
     "execution_count": 69,
     "metadata": {},
     "output_type": "execute_result"
    }
   ],
   "source": [
    "chi2_contingency(ct2)"
   ]
  },
  {
   "cell_type": "code",
   "execution_count": 70,
   "metadata": {},
   "outputs": [
    {
     "data": {
      "text/plain": [
       "<matplotlib.collections.PathCollection at 0x1fcec440fa0>"
      ]
     },
     "execution_count": 70,
     "metadata": {},
     "output_type": "execute_result"
    },
    {
     "data": {
      "image/png": "[encoded data removed]",
      "text/plain": [
       "<Figure size 432x288 with 1 Axes>"
      ]
     },
     "metadata": {
      "needs_background": "light"
     },
     "output_type": "display_data"
    }
   ],
   "source": [
    "plt.scatter(df3['Reviews'],df3['Installs(over then)'])"
   ]
  },
  {
   "cell_type": "code",
   "execution_count": 71,
   "metadata": {},
   "outputs": [
    {
     "data": {
      "image/png": "[encoded data removed]",
      "text/plain": [
       "<Figure size 432x288 with 1 Axes>"
      ]
     },
     "metadata": {
      "needs_background": "light"
     },
     "output_type": "display_data"
    },
    {
     "name": "stdout",
     "output_type": "stream",
     "text": [
      "Slope: [[13.16724359]]\n",
      "Intercept: [2237823.71047935]\n",
      "R2: 0.32994024203563077\n"
     ]
    }
   ],
   "source": [
    "lr_reviews = linear_model.LinearRegression()\n",
    "\n",
    "x = df3['Reviews'].values.reshape(df3['Reviews'].shape[0],1)\n",
    "y = df3['Installs(over then)'].values.reshape(df3['Installs(over then)'].shape[0],1)\n",
    "\n",
    "lr_reviews.fit(X=x, y=y)\n",
    "\n",
    "plt.scatter(x, y,  color='black')\n",
    "plt.plot(x, lr_reviews.predict(x), color='blue', linewidth=3)\n",
    "\n",
    "plt.xlabel('Reviews count')\n",
    "plt.ylabel('Installs (Over then)')\n",
    "plt.show()\n",
    "\n",
    "print(\"Slope:\",lr_reviews.coef_)\n",
    "print(\"Intercept:\",lr_reviews.intercept_)\n",
    "print(\"R2:\",lr_reviews.score(x,y))"
   ]
  },
  {
   "cell_type": "code",
   "execution_count": 72,
   "metadata": {},
   "outputs": [
    {
     "data": {
      "text/plain": [
       "Text(0, 0.5, 'Rating_Group')"
      ]
     },
     "execution_count": 72,
     "metadata": {},
     "output_type": "execute_result"
    },
    {
     "data": {
      "image/png": "[encoded data removed]",
      "text/plain": [
       "<Figure size 1080x432 with 1 Axes>"
      ]
     },
     "metadata": {
      "needs_background": "light"
     },
     "output_type": "display_data"
    }
   ],
   "source": [
    "\n",
    "ct9.plot(kind='bar', figsize=(15,6))\n",
    "plt.title('Price_Group vs Rating_Group',fontsize=30)\n",
    "plt.xlabel('Price_Group')\n",
    "plt.ylabel('Rating_Group')"
   ]
  },
  {
   "cell_type": "code",
   "execution_count": 73,
   "metadata": {
    "scrolled": true
   },
   "outputs": [
    {
     "data": {
      "text/plain": [
       "(38.07889892587537,\n",
       " 0.008661064992551015,\n",
       " 20,\n",
       " array([[1.25787364e+03, 4.35667361e+01, 2.42861380e+02, 1.60269972e+03,\n",
       "         4.41599853e+03],\n",
       "        [9.14756710e+01, 3.16828043e+00, 1.76614781e+01, 1.16552274e+02,\n",
       "         3.21142297e+02],\n",
       "        [5.15590146e+00, 1.78575806e-01, 9.95465131e-01, 6.56930996e+00,\n",
       "         1.81007476e+01],\n",
       "        [1.49687462e+00, 5.18445888e-02, 2.89006006e-01, 1.90721902e+00,\n",
       "         5.25505577e+00],\n",
       "        [8.31597009e-01, 2.88025493e-02, 1.60558892e-01, 1.05956612e+00,\n",
       "         2.91947543e+00],\n",
       "        [1.66319402e-01, 5.76050987e-03, 3.21117784e-02, 2.11913225e-01,\n",
       "         5.83895085e-01]]))"
      ]
     },
     "execution_count": 73,
     "metadata": {},
     "output_type": "execute_result"
    }
   ],
   "source": [
    "#from scipy.stats import chi2_contingency\n",
    "chi2_contingency(ct8)\n",
    "#here we can see that the price and the rate of app are realy connect!"
   ]
  },
  {
   "cell_type": "code",
   "execution_count": 74,
   "metadata": {
    "scrolled": false
   },
   "outputs": [
    {
     "data": {
      "text/plain": [
       "Text(0, 0.5, 'Free/Paid')"
      ]
     },
     "execution_count": 74,
     "metadata": {},
     "output_type": "execute_result"
    },
    {
     "data": {
      "image/png": "[encoded data removed]",
      "text/plain": [
       "<Figure size 1080x432 with 1 Axes>"
      ]
     },
     "metadata": {
      "needs_background": "light"
     },
     "output_type": "display_data"
    }
   ],
   "source": [
    "ct11.plot(kind='bar', figsize=(15,6))\n",
    "plt.title('Installs vs Free/Paid',fontsize=30)\n",
    "plt.xlabel('Installs')\n",
    "plt.ylabel('Free/Paid')"
   ]
  },
  {
   "cell_type": "code",
   "execution_count": 75,
   "metadata": {},
   "outputs": [
    {
     "data": {
      "text/plain": [
       "Text(0, 0.5, 'Rating_Group')"
      ]
     },
     "execution_count": 75,
     "metadata": {},
     "output_type": "execute_result"
    },
    {
     "data": {
      "image/png": "[encoded data removed]",
      "text/plain": [
       "<Figure size 1080x432 with 1 Axes>"
      ]
     },
     "metadata": {
      "needs_background": "light"
     },
     "output_type": "display_data"
    }
   ],
   "source": [
    "ct13.plot(kind='bar', figsize=(15,6))\n",
    "plt.title('Size_Group vs Rating_Group',fontsize=30)\n",
    "plt.xlabel('Size_Group')\n",
    "plt.ylabel('Rating_Group')"
   ]
  },
  {
   "cell_type": "code",
   "execution_count": 76,
   "metadata": {},
   "outputs": [
    {
     "data": {
      "image/png": "[encoded data removed]",
      "text/plain": [
       "<Figure size 432x288 with 1 Axes>"
      ]
     },
     "metadata": {
      "needs_background": "light"
     },
     "output_type": "display_data"
    },
    {
     "name": "stdout",
     "output_type": "stream",
     "text": [
      "Slope: [[1329920.23336917]]\n",
      "Intercept: [-470575.27547641]\n",
      "R2: 0.006579005566598295\n"
     ]
    }
   ],
   "source": [
    "lr_rating = linear_model.LinearRegression() # create a linear regression object\n",
    "\n",
    "# scikit-learn doesn't work as well with pandas, so we have to extract values \n",
    "x = df3['Rating'].values.reshape(df3['Rating'].shape[0],1)\n",
    "y = df3['Installs(over then)'].values.reshape(df3['Installs(over then)'].shape[0],1)\n",
    "\n",
    "lr_rating.fit(X=x, y=y)\n",
    "\n",
    "plt.scatter(x, y,  color='black')\n",
    "plt.plot(x, lr_rating.predict(x), color='blue', linewidth=3)\n",
    "\n",
    "plt.xlabel('Rating')\n",
    "plt.ylabel('Installs (Over then)')\n",
    "plt.show()\n",
    "\n",
    "print(\"Slope:\",lr_rating.coef_)\n",
    "print(\"Intercept:\",lr_rating.intercept_)\n",
    "print(\"R2:\",lr_rating.score(x,y))"
   ]
  },
  {
   "cell_type": "code",
   "execution_count": 77,
   "metadata": {},
   "outputs": [
    {
     "data": {
      "image/png": "[encoded data removed]",
      "text/plain": [
       "<Figure size 432x288 with 1 Axes>"
      ]
     },
     "metadata": {
      "needs_background": "light"
     },
     "output_type": "display_data"
    },
    {
     "name": "stdout",
     "output_type": "stream",
     "text": [
      "Slope: [[170932.89265309]]\n",
      "Intercept: [518796.56233548]\n",
      "R2: 0.0198889553844539\n"
     ]
    }
   ],
   "source": [
    "lr_size = linear_model.LinearRegression() # create a linear regression object\n",
    "\n",
    "# scikit-learn doesn't work as well with pandas, so we have to extract values \n",
    "x = df3['Size(M)'].values.reshape(df3['Size(M)'].shape[0],1)\n",
    "y = df3['Installs(over then)'].values.reshape(df3['Installs(over then)'].shape[0],1)\n",
    "\n",
    "lr_size.fit(X=x, y=y)\n",
    "\n",
    "plt.scatter(x, y,  color='black')\n",
    "plt.plot(x, lr_size.predict(x), color='blue', linewidth=3)\n",
    "\n",
    "plt.xlabel('Size(M)')\n",
    "plt.ylabel('Installs (Over then)')\n",
    "plt.show()\n",
    "\n",
    "print(\"Slope:\",lr_size.coef_)\n",
    "print(\"Intercept:\",lr_size.intercept_)\n",
    "print(\"R2:\",lr_size.score(x,y))"
   ]
  },
  {
   "cell_type": "code",
   "execution_count": 78,
   "metadata": {
    "scrolled": false
   },
   "outputs": [
    {
     "data": {
      "image/png": "[encoded data removed]",
      "text/plain": [
       "<Figure size 432x288 with 1 Axes>"
      ]
     },
     "metadata": {
      "needs_background": "light"
     },
     "output_type": "display_data"
    },
    {
     "name": "stdout",
     "output_type": "stream",
     "text": [
      "Slope: [[-357386.7234242]]\n",
      "Intercept: [4282558.78036629]\n",
      "R2: 0.0006939630419641185\n"
     ]
    }
   ],
   "source": [
    "lr_price = linear_model.LinearRegression() # create a linear regression object\n",
    "\n",
    "# scikit-learn doesn't work as well with pandas, so we have to extract values \n",
    "x = df3['Price($)'].values.reshape(df3['Price($)'].shape[0],1)\n",
    "y = df3['Installs(over then)'].values.reshape(df3['Installs(over then)'].shape[0],1)\n",
    "\n",
    "lr_price.fit(X=x, y=y)\n",
    "\n",
    "plt.scatter(x, y,  color='black')\n",
    "plt.plot(x, lr_price.predict(x), color='blue', linewidth=3)\n",
    "\n",
    "plt.xlabel('Price($)')\n",
    "plt.ylabel('Installs (Over then)')\n",
    "plt.show()\n",
    "\n",
    "print(\"Slope:\",lr_price.coef_)\n",
    "print(\"Intercept:\",lr_price.intercept_)\n",
    "print(\"R2:\",lr_price.score(x,y))"
   ]
  },
  {
   "cell_type": "code",
   "execution_count": 79,
   "metadata": {},
   "outputs": [
    {
     "data": {
      "text/plain": [
       "Index(['App', 'Category', 'Rating', 'Reviews', 'Size(M)', 'Free/Paid',\n",
       "       'Price($)', 'Installs(over then)', 'Rating_Group', 'Price_Group',\n",
       "       'Size_Group', '10_million_Installs_and_more', 'Between_4_to_5_rate',\n",
       "       'Successful_app'],\n",
       "      dtype='object')"
      ]
     },
     "execution_count": 79,
     "metadata": {},
     "output_type": "execute_result"
    }
   ],
   "source": [
    "df3.columns"
   ]
  },
  {
   "cell_type": "code",
   "execution_count": 80,
   "metadata": {},
   "outputs": [],
   "source": [
    "df_above_10M = df3.drop(['App','Category','Free/Paid','Rating_Group','Installs(over then)','Price_Group','Size_Group'],axis=1)"
   ]
  },
  {
   "cell_type": "code",
   "execution_count": 82,
   "metadata": {},
   "outputs": [],
   "source": [
    "df_above_10M.drop(['Between_4_to_5_rate', 'Successful_app'],axis=1, inplace=True)"
   ]
  },
  {
   "cell_type": "code",
   "execution_count": 83,
   "metadata": {},
   "outputs": [
    {
     "data": {
      "text/html": [
       "<div>\n",
       "<style scoped>\n",
       "    .dataframe tbody tr th:only-of-type {\n",
       "        vertical-align: middle;\n",
       "    }\n",
       "\n",
       "    .dataframe tbody tr th {\n",
       "        vertical-align: top;\n",
       "    }\n",
       "\n",
       "    .dataframe thead th {\n",
       "        text-align: right;\n",
       "    }\n",
       "</style>\n",
       "<table border=\"1\" class=\"dataframe\">\n",
       "  <thead>\n",
       "    <tr style=\"text-align: right;\">\n",
       "      <th></th>\n",
       "      <th>Rating</th>\n",
       "      <th>Reviews</th>\n",
       "      <th>Size(M)</th>\n",
       "      <th>Price($)</th>\n",
       "      <th>10_million_Installs_and_more</th>\n",
       "    </tr>\n",
       "  </thead>\n",
       "  <tbody>\n",
       "    <tr>\n",
       "      <th>0</th>\n",
       "      <td>4.1</td>\n",
       "      <td>159</td>\n",
       "      <td>19.0</td>\n",
       "      <td>0.0</td>\n",
       "      <td>False</td>\n",
       "    </tr>\n",
       "    <tr>\n",
       "      <th>1</th>\n",
       "      <td>3.9</td>\n",
       "      <td>967</td>\n",
       "      <td>14.0</td>\n",
       "      <td>0.0</td>\n",
       "      <td>False</td>\n",
       "    </tr>\n",
       "    <tr>\n",
       "      <th>2</th>\n",
       "      <td>4.7</td>\n",
       "      <td>87510</td>\n",
       "      <td>8.7</td>\n",
       "      <td>0.0</td>\n",
       "      <td>False</td>\n",
       "    </tr>\n",
       "    <tr>\n",
       "      <th>3</th>\n",
       "      <td>4.5</td>\n",
       "      <td>215644</td>\n",
       "      <td>25.0</td>\n",
       "      <td>0.0</td>\n",
       "      <td>True</td>\n",
       "    </tr>\n",
       "    <tr>\n",
       "      <th>4</th>\n",
       "      <td>4.3</td>\n",
       "      <td>967</td>\n",
       "      <td>2.8</td>\n",
       "      <td>0.0</td>\n",
       "      <td>False</td>\n",
       "    </tr>\n",
       "    <tr>\n",
       "      <th>...</th>\n",
       "      <td>...</td>\n",
       "      <td>...</td>\n",
       "      <td>...</td>\n",
       "      <td>...</td>\n",
       "      <td>...</td>\n",
       "    </tr>\n",
       "    <tr>\n",
       "      <th>10835</th>\n",
       "      <td>0.0</td>\n",
       "      <td>0</td>\n",
       "      <td>9.6</td>\n",
       "      <td>0.0</td>\n",
       "      <td>False</td>\n",
       "    </tr>\n",
       "    <tr>\n",
       "      <th>10836</th>\n",
       "      <td>4.5</td>\n",
       "      <td>38</td>\n",
       "      <td>53.0</td>\n",
       "      <td>0.0</td>\n",
       "      <td>False</td>\n",
       "    </tr>\n",
       "    <tr>\n",
       "      <th>10837</th>\n",
       "      <td>5.0</td>\n",
       "      <td>4</td>\n",
       "      <td>3.6</td>\n",
       "      <td>0.0</td>\n",
       "      <td>False</td>\n",
       "    </tr>\n",
       "    <tr>\n",
       "      <th>10838</th>\n",
       "      <td>0.0</td>\n",
       "      <td>3</td>\n",
       "      <td>9.5</td>\n",
       "      <td>0.0</td>\n",
       "      <td>False</td>\n",
       "    </tr>\n",
       "    <tr>\n",
       "      <th>10840</th>\n",
       "      <td>4.5</td>\n",
       "      <td>398307</td>\n",
       "      <td>19.0</td>\n",
       "      <td>0.0</td>\n",
       "      <td>True</td>\n",
       "    </tr>\n",
       "  </tbody>\n",
       "</table>\n",
       "<p>8159 rows × 5 columns</p>\n",
       "</div>"
      ],
      "text/plain": [
       "       Rating  Reviews  Size(M)  Price($)  10_million_Installs_and_more\n",
       "0         4.1      159     19.0       0.0                         False\n",
       "1         3.9      967     14.0       0.0                         False\n",
       "2         4.7    87510      8.7       0.0                         False\n",
       "3         4.5   215644     25.0       0.0                          True\n",
       "4         4.3      967      2.8       0.0                         False\n",
       "...       ...      ...      ...       ...                           ...\n",
       "10835     0.0        0      9.6       0.0                         False\n",
       "10836     4.5       38     53.0       0.0                         False\n",
       "10837     5.0        4      3.6       0.0                         False\n",
       "10838     0.0        3      9.5       0.0                         False\n",
       "10840     4.5   398307     19.0       0.0                          True\n",
       "\n",
       "[8159 rows x 5 columns]"
      ]
     },
     "execution_count": 83,
     "metadata": {},
     "output_type": "execute_result"
    }
   ],
   "source": [
    "df_above_10M"
   ]
  },
  {
   "cell_type": "code",
   "execution_count": 84,
   "metadata": {},
   "outputs": [],
   "source": [
    "xtrain, xtest, ytrain, ytest = train_test_split(df_above_10M.drop('10_million_Installs_and_more',axis=1),df_above_10M['10_million_Installs_and_more'],random_state = 0)"
   ]
  },
  {
   "cell_type": "code",
   "execution_count": 85,
   "metadata": {},
   "outputs": [
    {
     "name": "stdout",
     "output_type": "stream",
     "text": [
      "accuracy is 0.9514705882352941\n"
     ]
    }
   ],
   "source": [
    "clf=LogisticRegression()\n",
    "clf.fit(xtrain,ytrain)\n",
    "acc=clf.score(xtest,ytest)\n",
    "\n",
    "print(f\"accuracy is {acc}\")"
   ]
  },
  {
   "cell_type": "code",
   "execution_count": null,
   "metadata": {},
   "outputs": [],
   "source": []
  }
 ],
 "metadata": {
  "kernelspec": {
   "display_name": "Python 3",
   "language": "python",
   "name": "python3"
  },
  "language_info": {
   "codemirror_mode": {
    "name": "ipython",
    "version": 3
   },
   "file_extension": ".py",
   "mimetype": "text/x-python",
   "name": "python",
   "nbconvert_exporter": "python",
   "pygments_lexer": "ipython3",
   "version": "3.8.5"
  }
 },
 "nbformat": 4,
 "nbformat_minor": 4
}
